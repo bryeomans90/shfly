{
 "cells": [
  {
   "cell_type": "code",
   "execution_count": 1,
   "metadata": {},
   "outputs": [],
   "source": [
    "import datetime\n",
    "import matplotlib.pyplot as plt\n",
    "import h5py\n",
    "import pandas as pd\n",
    "import numpy as np\n",
    "\n",
    "import tensorflow as tf\n",
    "from tensorflow import keras\n",
    "from tensorflow.keras import layers\n",
    "\n",
    "from tensorflow.python.client import device_lib\n",
    "import tensorflow_io as tfio\n",
    "\n",
    "from performance_evaluation import plot_training_history, evaluate_model_performance"
   ]
  },
  {
   "cell_type": "code",
   "execution_count": 2,
   "metadata": {},
   "outputs": [],
   "source": [
    "all_customer_engagement = pd.read_pickle(\n",
    "    'data/AE_Clustering/all_customer_engagement.pkl'\n",
    ").drop('custno', axis=1)"
   ]
  },
  {
   "cell_type": "code",
   "execution_count": 3,
   "metadata": {},
   "outputs": [
    {
     "data": {
      "text/html": [
       "<div>\n",
       "<style scoped>\n",
       "    .dataframe tbody tr th:only-of-type {\n",
       "        vertical-align: middle;\n",
       "    }\n",
       "\n",
       "    .dataframe tbody tr th {\n",
       "        vertical-align: top;\n",
       "    }\n",
       "\n",
       "    .dataframe thead th {\n",
       "        text-align: right;\n",
       "    }\n",
       "</style>\n",
       "<table border=\"1\" class=\"dataframe\">\n",
       "  <thead>\n",
       "    <tr style=\"text-align: right;\">\n",
       "      <th></th>\n",
       "      <th>E1:-1.0</th>\n",
       "      <th>E1:1.0</th>\n",
       "      <th>E1:10.0</th>\n",
       "      <th>E1:11.0</th>\n",
       "      <th>E1:2.0</th>\n",
       "      <th>E1:4.0</th>\n",
       "      <th>E1:5.0</th>\n",
       "      <th>E1:6.0</th>\n",
       "      <th>E1:7.0</th>\n",
       "      <th>E1:8.0</th>\n",
       "      <th>...</th>\n",
       "      <th>P2:90.0</th>\n",
       "      <th>P2:91.0</th>\n",
       "      <th>P2:92.0</th>\n",
       "      <th>P2:93.0</th>\n",
       "      <th>P2:94.0</th>\n",
       "      <th>P2:95.0</th>\n",
       "      <th>P2:96.0</th>\n",
       "      <th>P2:97.0</th>\n",
       "      <th>P2:98.0</th>\n",
       "      <th>P2:99.0</th>\n",
       "    </tr>\n",
       "  </thead>\n",
       "  <tbody>\n",
       "    <tr>\n",
       "      <th>0</th>\n",
       "      <td>11.0</td>\n",
       "      <td>0.0</td>\n",
       "      <td>0.0</td>\n",
       "      <td>0.0</td>\n",
       "      <td>0.0</td>\n",
       "      <td>0.0</td>\n",
       "      <td>0.0</td>\n",
       "      <td>0.0</td>\n",
       "      <td>0.0</td>\n",
       "      <td>0.0</td>\n",
       "      <td>...</td>\n",
       "      <td>0.0</td>\n",
       "      <td>0.0</td>\n",
       "      <td>0.0</td>\n",
       "      <td>0.0</td>\n",
       "      <td>0.0</td>\n",
       "      <td>0.0</td>\n",
       "      <td>0.0</td>\n",
       "      <td>0.0</td>\n",
       "      <td>0.0</td>\n",
       "      <td>0.0</td>\n",
       "    </tr>\n",
       "    <tr>\n",
       "      <th>1</th>\n",
       "      <td>7.0</td>\n",
       "      <td>0.0</td>\n",
       "      <td>0.0</td>\n",
       "      <td>2.0</td>\n",
       "      <td>0.0</td>\n",
       "      <td>0.0</td>\n",
       "      <td>0.0</td>\n",
       "      <td>0.0</td>\n",
       "      <td>0.0</td>\n",
       "      <td>0.0</td>\n",
       "      <td>...</td>\n",
       "      <td>0.0</td>\n",
       "      <td>0.0</td>\n",
       "      <td>0.0</td>\n",
       "      <td>0.0</td>\n",
       "      <td>0.0</td>\n",
       "      <td>0.0</td>\n",
       "      <td>0.0</td>\n",
       "      <td>0.0</td>\n",
       "      <td>0.0</td>\n",
       "      <td>0.0</td>\n",
       "    </tr>\n",
       "    <tr>\n",
       "      <th>2</th>\n",
       "      <td>49.0</td>\n",
       "      <td>0.0</td>\n",
       "      <td>0.0</td>\n",
       "      <td>0.0</td>\n",
       "      <td>1.0</td>\n",
       "      <td>1.0</td>\n",
       "      <td>0.0</td>\n",
       "      <td>2.0</td>\n",
       "      <td>0.0</td>\n",
       "      <td>0.0</td>\n",
       "      <td>...</td>\n",
       "      <td>0.0</td>\n",
       "      <td>0.0</td>\n",
       "      <td>0.0</td>\n",
       "      <td>0.0</td>\n",
       "      <td>0.0</td>\n",
       "      <td>0.0</td>\n",
       "      <td>0.0</td>\n",
       "      <td>0.0</td>\n",
       "      <td>0.0</td>\n",
       "      <td>0.0</td>\n",
       "    </tr>\n",
       "    <tr>\n",
       "      <th>3</th>\n",
       "      <td>65.0</td>\n",
       "      <td>1.0</td>\n",
       "      <td>0.0</td>\n",
       "      <td>0.0</td>\n",
       "      <td>0.0</td>\n",
       "      <td>0.0</td>\n",
       "      <td>0.0</td>\n",
       "      <td>0.0</td>\n",
       "      <td>1.0</td>\n",
       "      <td>0.0</td>\n",
       "      <td>...</td>\n",
       "      <td>0.0</td>\n",
       "      <td>0.0</td>\n",
       "      <td>0.0</td>\n",
       "      <td>0.0</td>\n",
       "      <td>0.0</td>\n",
       "      <td>0.0</td>\n",
       "      <td>0.0</td>\n",
       "      <td>0.0</td>\n",
       "      <td>0.0</td>\n",
       "      <td>0.0</td>\n",
       "    </tr>\n",
       "    <tr>\n",
       "      <th>4</th>\n",
       "      <td>20.0</td>\n",
       "      <td>1.0</td>\n",
       "      <td>0.0</td>\n",
       "      <td>0.0</td>\n",
       "      <td>1.0</td>\n",
       "      <td>0.0</td>\n",
       "      <td>0.0</td>\n",
       "      <td>0.0</td>\n",
       "      <td>0.0</td>\n",
       "      <td>0.0</td>\n",
       "      <td>...</td>\n",
       "      <td>0.0</td>\n",
       "      <td>0.0</td>\n",
       "      <td>0.0</td>\n",
       "      <td>0.0</td>\n",
       "      <td>0.0</td>\n",
       "      <td>0.0</td>\n",
       "      <td>0.0</td>\n",
       "      <td>0.0</td>\n",
       "      <td>0.0</td>\n",
       "      <td>0.0</td>\n",
       "    </tr>\n",
       "  </tbody>\n",
       "</table>\n",
       "<p>5 rows × 283 columns</p>\n",
       "</div>"
      ],
      "text/plain": [
       "   E1:-1.0  E1:1.0  E1:10.0  E1:11.0  E1:2.0  E1:4.0  E1:5.0  E1:6.0  E1:7.0  \\\n",
       "0     11.0     0.0      0.0      0.0     0.0     0.0     0.0     0.0     0.0   \n",
       "1      7.0     0.0      0.0      2.0     0.0     0.0     0.0     0.0     0.0   \n",
       "2     49.0     0.0      0.0      0.0     1.0     1.0     0.0     2.0     0.0   \n",
       "3     65.0     1.0      0.0      0.0     0.0     0.0     0.0     0.0     1.0   \n",
       "4     20.0     1.0      0.0      0.0     1.0     0.0     0.0     0.0     0.0   \n",
       "\n",
       "   E1:8.0  ...  P2:90.0  P2:91.0  P2:92.0  P2:93.0  P2:94.0  P2:95.0  P2:96.0  \\\n",
       "0     0.0  ...      0.0      0.0      0.0      0.0      0.0      0.0      0.0   \n",
       "1     0.0  ...      0.0      0.0      0.0      0.0      0.0      0.0      0.0   \n",
       "2     0.0  ...      0.0      0.0      0.0      0.0      0.0      0.0      0.0   \n",
       "3     0.0  ...      0.0      0.0      0.0      0.0      0.0      0.0      0.0   \n",
       "4     0.0  ...      0.0      0.0      0.0      0.0      0.0      0.0      0.0   \n",
       "\n",
       "   P2:97.0  P2:98.0  P2:99.0  \n",
       "0      0.0      0.0      0.0  \n",
       "1      0.0      0.0      0.0  \n",
       "2      0.0      0.0      0.0  \n",
       "3      0.0      0.0      0.0  \n",
       "4      0.0      0.0      0.0  \n",
       "\n",
       "[5 rows x 283 columns]"
      ]
     },
     "execution_count": 3,
     "metadata": {},
     "output_type": "execute_result"
    }
   ],
   "source": [
    "all_customer_engagement.head()"
   ]
  },
  {
   "cell_type": "markdown",
   "metadata": {},
   "source": [
    "#### Encode Customer Engagement"
   ]
  },
  {
   "cell_type": "code",
   "execution_count": 4,
   "metadata": {},
   "outputs": [],
   "source": [
    "Xs = all_customer_engagement.values"
   ]
  },
  {
   "cell_type": "code",
   "execution_count": 5,
   "metadata": {},
   "outputs": [
    {
     "name": "stdout",
     "output_type": "stream",
     "text": [
      "WARNING:tensorflow:No training configuration found in the save file, so the model was *not* compiled. Compile it manually.\n"
     ]
    }
   ],
   "source": [
    "encoder = keras.models.load_model('data/AE_Clustering/encoder.h5')"
   ]
  },
  {
   "cell_type": "code",
   "execution_count": 6,
   "metadata": {},
   "outputs": [],
   "source": [
    "cust_encodings = encoder.predict(Xs)"
   ]
  },
  {
   "cell_type": "markdown",
   "metadata": {},
   "source": [
    "#### Validate that predictions range betweeen -1 and 1 for all variables. "
   ]
  },
  {
   "cell_type": "code",
   "execution_count": 7,
   "metadata": {},
   "outputs": [
    {
     "data": {
      "text/html": [
       "<div>\n",
       "<style scoped>\n",
       "    .dataframe tbody tr th:only-of-type {\n",
       "        vertical-align: middle;\n",
       "    }\n",
       "\n",
       "    .dataframe tbody tr th {\n",
       "        vertical-align: top;\n",
       "    }\n",
       "\n",
       "    .dataframe thead th {\n",
       "        text-align: right;\n",
       "    }\n",
       "</style>\n",
       "<table border=\"1\" class=\"dataframe\">\n",
       "  <thead>\n",
       "    <tr style=\"text-align: right;\">\n",
       "      <th></th>\n",
       "      <th>0</th>\n",
       "      <th>1</th>\n",
       "      <th>2</th>\n",
       "      <th>3</th>\n",
       "      <th>4</th>\n",
       "      <th>5</th>\n",
       "      <th>6</th>\n",
       "      <th>7</th>\n",
       "      <th>8</th>\n",
       "      <th>9</th>\n",
       "      <th>...</th>\n",
       "      <th>20</th>\n",
       "      <th>21</th>\n",
       "      <th>22</th>\n",
       "      <th>23</th>\n",
       "      <th>24</th>\n",
       "      <th>25</th>\n",
       "      <th>26</th>\n",
       "      <th>27</th>\n",
       "      <th>28</th>\n",
       "      <th>29</th>\n",
       "    </tr>\n",
       "  </thead>\n",
       "  <tbody>\n",
       "    <tr>\n",
       "      <th>count</th>\n",
       "      <td>63901.000000</td>\n",
       "      <td>63901.000000</td>\n",
       "      <td>63901.000000</td>\n",
       "      <td>63901.000000</td>\n",
       "      <td>63901.000000</td>\n",
       "      <td>63901.000000</td>\n",
       "      <td>63901.000000</td>\n",
       "      <td>63901.000000</td>\n",
       "      <td>63901.000000</td>\n",
       "      <td>63901.000000</td>\n",
       "      <td>...</td>\n",
       "      <td>63901.000000</td>\n",
       "      <td>63901.000000</td>\n",
       "      <td>63901.000000</td>\n",
       "      <td>63901.000000</td>\n",
       "      <td>63901.000000</td>\n",
       "      <td>63901.000000</td>\n",
       "      <td>63901.000000</td>\n",
       "      <td>63901.000000</td>\n",
       "      <td>63901.000000</td>\n",
       "      <td>63901.000000</td>\n",
       "    </tr>\n",
       "    <tr>\n",
       "      <th>mean</th>\n",
       "      <td>0.138159</td>\n",
       "      <td>0.064628</td>\n",
       "      <td>-0.077943</td>\n",
       "      <td>0.255132</td>\n",
       "      <td>0.196226</td>\n",
       "      <td>0.024565</td>\n",
       "      <td>-0.226669</td>\n",
       "      <td>0.065302</td>\n",
       "      <td>-0.137121</td>\n",
       "      <td>-0.176708</td>\n",
       "      <td>...</td>\n",
       "      <td>0.100814</td>\n",
       "      <td>0.194526</td>\n",
       "      <td>0.163162</td>\n",
       "      <td>-0.196011</td>\n",
       "      <td>0.095884</td>\n",
       "      <td>-0.230394</td>\n",
       "      <td>0.350982</td>\n",
       "      <td>0.172994</td>\n",
       "      <td>0.117882</td>\n",
       "      <td>0.036691</td>\n",
       "    </tr>\n",
       "    <tr>\n",
       "      <th>std</th>\n",
       "      <td>0.241857</td>\n",
       "      <td>0.215367</td>\n",
       "      <td>0.216416</td>\n",
       "      <td>0.209165</td>\n",
       "      <td>0.221375</td>\n",
       "      <td>0.317046</td>\n",
       "      <td>0.276555</td>\n",
       "      <td>0.325870</td>\n",
       "      <td>0.281570</td>\n",
       "      <td>0.223803</td>\n",
       "      <td>...</td>\n",
       "      <td>0.218634</td>\n",
       "      <td>0.278527</td>\n",
       "      <td>0.209549</td>\n",
       "      <td>0.185014</td>\n",
       "      <td>0.361866</td>\n",
       "      <td>0.325953</td>\n",
       "      <td>0.254175</td>\n",
       "      <td>0.267631</td>\n",
       "      <td>0.193609</td>\n",
       "      <td>0.293436</td>\n",
       "    </tr>\n",
       "    <tr>\n",
       "      <th>min</th>\n",
       "      <td>-0.999999</td>\n",
       "      <td>-0.999872</td>\n",
       "      <td>-0.956004</td>\n",
       "      <td>-1.000000</td>\n",
       "      <td>-0.999997</td>\n",
       "      <td>-1.000000</td>\n",
       "      <td>-1.000000</td>\n",
       "      <td>-1.000000</td>\n",
       "      <td>-1.000000</td>\n",
       "      <td>-0.931186</td>\n",
       "      <td>...</td>\n",
       "      <td>-1.000000</td>\n",
       "      <td>-0.999723</td>\n",
       "      <td>-1.000000</td>\n",
       "      <td>-1.000000</td>\n",
       "      <td>-1.000000</td>\n",
       "      <td>-1.000000</td>\n",
       "      <td>-1.000000</td>\n",
       "      <td>-0.905770</td>\n",
       "      <td>-1.000000</td>\n",
       "      <td>-1.000000</td>\n",
       "    </tr>\n",
       "    <tr>\n",
       "      <th>25%</th>\n",
       "      <td>0.045160</td>\n",
       "      <td>-0.034166</td>\n",
       "      <td>-0.216730</td>\n",
       "      <td>0.216925</td>\n",
       "      <td>0.080629</td>\n",
       "      <td>-0.157222</td>\n",
       "      <td>-0.326626</td>\n",
       "      <td>-0.183497</td>\n",
       "      <td>-0.271253</td>\n",
       "      <td>-0.313963</td>\n",
       "      <td>...</td>\n",
       "      <td>-0.045134</td>\n",
       "      <td>-0.002395</td>\n",
       "      <td>0.100419</td>\n",
       "      <td>-0.249922</td>\n",
       "      <td>-0.172591</td>\n",
       "      <td>-0.448944</td>\n",
       "      <td>0.221628</td>\n",
       "      <td>-0.044069</td>\n",
       "      <td>0.031957</td>\n",
       "      <td>-0.110863</td>\n",
       "    </tr>\n",
       "    <tr>\n",
       "      <th>50%</th>\n",
       "      <td>0.144643</td>\n",
       "      <td>0.074095</td>\n",
       "      <td>-0.126938</td>\n",
       "      <td>0.303446</td>\n",
       "      <td>0.223042</td>\n",
       "      <td>-0.057559</td>\n",
       "      <td>-0.213260</td>\n",
       "      <td>0.058531</td>\n",
       "      <td>-0.145694</td>\n",
       "      <td>-0.230593</td>\n",
       "      <td>...</td>\n",
       "      <td>0.130019</td>\n",
       "      <td>0.195090</td>\n",
       "      <td>0.193820</td>\n",
       "      <td>-0.161751</td>\n",
       "      <td>0.087708</td>\n",
       "      <td>-0.267251</td>\n",
       "      <td>0.385133</td>\n",
       "      <td>0.161995</td>\n",
       "      <td>0.117018</td>\n",
       "      <td>0.026096</td>\n",
       "    </tr>\n",
       "    <tr>\n",
       "      <th>75%</th>\n",
       "      <td>0.247992</td>\n",
       "      <td>0.164870</td>\n",
       "      <td>-0.002978</td>\n",
       "      <td>0.365640</td>\n",
       "      <td>0.325390</td>\n",
       "      <td>0.141791</td>\n",
       "      <td>-0.127317</td>\n",
       "      <td>0.346627</td>\n",
       "      <td>0.018450</td>\n",
       "      <td>-0.112469</td>\n",
       "      <td>...</td>\n",
       "      <td>0.272230</td>\n",
       "      <td>0.356115</td>\n",
       "      <td>0.285589</td>\n",
       "      <td>-0.088045</td>\n",
       "      <td>0.381608</td>\n",
       "      <td>-0.021683</td>\n",
       "      <td>0.497102</td>\n",
       "      <td>0.338882</td>\n",
       "      <td>0.202991</td>\n",
       "      <td>0.149351</td>\n",
       "    </tr>\n",
       "    <tr>\n",
       "      <th>max</th>\n",
       "      <td>1.000000</td>\n",
       "      <td>1.000000</td>\n",
       "      <td>1.000000</td>\n",
       "      <td>0.940320</td>\n",
       "      <td>0.999999</td>\n",
       "      <td>1.000000</td>\n",
       "      <td>1.000000</td>\n",
       "      <td>1.000000</td>\n",
       "      <td>0.999996</td>\n",
       "      <td>1.000000</td>\n",
       "      <td>...</td>\n",
       "      <td>0.712651</td>\n",
       "      <td>1.000000</td>\n",
       "      <td>0.933814</td>\n",
       "      <td>0.961642</td>\n",
       "      <td>1.000000</td>\n",
       "      <td>1.000000</td>\n",
       "      <td>1.000000</td>\n",
       "      <td>1.000000</td>\n",
       "      <td>1.000000</td>\n",
       "      <td>0.999999</td>\n",
       "    </tr>\n",
       "  </tbody>\n",
       "</table>\n",
       "<p>8 rows × 30 columns</p>\n",
       "</div>"
      ],
      "text/plain": [
       "                 0             1             2             3             4   \\\n",
       "count  63901.000000  63901.000000  63901.000000  63901.000000  63901.000000   \n",
       "mean       0.138159      0.064628     -0.077943      0.255132      0.196226   \n",
       "std        0.241857      0.215367      0.216416      0.209165      0.221375   \n",
       "min       -0.999999     -0.999872     -0.956004     -1.000000     -0.999997   \n",
       "25%        0.045160     -0.034166     -0.216730      0.216925      0.080629   \n",
       "50%        0.144643      0.074095     -0.126938      0.303446      0.223042   \n",
       "75%        0.247992      0.164870     -0.002978      0.365640      0.325390   \n",
       "max        1.000000      1.000000      1.000000      0.940320      0.999999   \n",
       "\n",
       "                 5             6             7             8             9   \\\n",
       "count  63901.000000  63901.000000  63901.000000  63901.000000  63901.000000   \n",
       "mean       0.024565     -0.226669      0.065302     -0.137121     -0.176708   \n",
       "std        0.317046      0.276555      0.325870      0.281570      0.223803   \n",
       "min       -1.000000     -1.000000     -1.000000     -1.000000     -0.931186   \n",
       "25%       -0.157222     -0.326626     -0.183497     -0.271253     -0.313963   \n",
       "50%       -0.057559     -0.213260      0.058531     -0.145694     -0.230593   \n",
       "75%        0.141791     -0.127317      0.346627      0.018450     -0.112469   \n",
       "max        1.000000      1.000000      1.000000      0.999996      1.000000   \n",
       "\n",
       "       ...            20            21            22            23  \\\n",
       "count  ...  63901.000000  63901.000000  63901.000000  63901.000000   \n",
       "mean   ...      0.100814      0.194526      0.163162     -0.196011   \n",
       "std    ...      0.218634      0.278527      0.209549      0.185014   \n",
       "min    ...     -1.000000     -0.999723     -1.000000     -1.000000   \n",
       "25%    ...     -0.045134     -0.002395      0.100419     -0.249922   \n",
       "50%    ...      0.130019      0.195090      0.193820     -0.161751   \n",
       "75%    ...      0.272230      0.356115      0.285589     -0.088045   \n",
       "max    ...      0.712651      1.000000      0.933814      0.961642   \n",
       "\n",
       "                 24            25            26            27            28  \\\n",
       "count  63901.000000  63901.000000  63901.000000  63901.000000  63901.000000   \n",
       "mean       0.095884     -0.230394      0.350982      0.172994      0.117882   \n",
       "std        0.361866      0.325953      0.254175      0.267631      0.193609   \n",
       "min       -1.000000     -1.000000     -1.000000     -0.905770     -1.000000   \n",
       "25%       -0.172591     -0.448944      0.221628     -0.044069      0.031957   \n",
       "50%        0.087708     -0.267251      0.385133      0.161995      0.117018   \n",
       "75%        0.381608     -0.021683      0.497102      0.338882      0.202991   \n",
       "max        1.000000      1.000000      1.000000      1.000000      1.000000   \n",
       "\n",
       "                 29  \n",
       "count  63901.000000  \n",
       "mean       0.036691  \n",
       "std        0.293436  \n",
       "min       -1.000000  \n",
       "25%       -0.110863  \n",
       "50%        0.026096  \n",
       "75%        0.149351  \n",
       "max        0.999999  \n",
       "\n",
       "[8 rows x 30 columns]"
      ]
     },
     "execution_count": 7,
     "metadata": {},
     "output_type": "execute_result"
    }
   ],
   "source": [
    "pd.DataFrame(cust_encodings).describe()"
   ]
  },
  {
   "cell_type": "markdown",
   "metadata": {},
   "source": [
    "# Determine # of Clusters"
   ]
  },
  {
   "cell_type": "code",
   "execution_count": 8,
   "metadata": {},
   "outputs": [],
   "source": [
    "from sklearn.cluster import KMeans"
   ]
  },
  {
   "cell_type": "code",
   "execution_count": 9,
   "metadata": {},
   "outputs": [],
   "source": [
    "# Cacluate WSS for different cluster counts\n",
    "Ks = np.arange(1, 20)\n",
    "km = [KMeans(n_clusters=i) for i in Ks]\n",
    "WSS = [km[i].fit(cust_encodings).score(cust_encodings)*-1 for i in range(len(km))]"
   ]
  },
  {
   "cell_type": "code",
   "execution_count": 10,
   "metadata": {},
   "outputs": [
    {
     "data": {
      "image/png": "[encoded data removed]",
      "text/plain": [
       "<Figure size 432x288 with 1 Axes>"
      ]
     },
     "metadata": {
      "needs_background": "light"
     },
     "output_type": "display_data"
    }
   ],
   "source": [
    "plt.plot(Ks, WSS, label='WSS')\n",
    "plt.title('K-Means: Within Sum of Squares')\n",
    "plt.xlabel('Number of Clusters')\n",
    "plt.ylabel('Within Sum of Squares')\n",
    "plt.vlines(8, 30000, 140000, label='Est. Elbow')\n",
    "plt.legend()\n",
    "plt.show()"
   ]
  },
  {
   "cell_type": "markdown",
   "metadata": {},
   "source": [
    "# Train Clustering Algorithm"
   ]
  },
  {
   "cell_type": "code",
   "execution_count": 11,
   "metadata": {},
   "outputs": [
    {
     "data": {
      "text/plain": [
       "KMeans()"
      ]
     },
     "execution_count": 11,
     "metadata": {},
     "output_type": "execute_result"
    }
   ],
   "source": [
    "Final_KM = KMeans(8)\n",
    "Final_KM.fit(cust_encodings)"
   ]
  },
  {
   "cell_type": "code",
   "execution_count": 12,
   "metadata": {},
   "outputs": [],
   "source": [
    "cluster_assignment = Final_KM.predict(cust_encodings)"
   ]
  },
  {
   "cell_type": "markdown",
   "metadata": {},
   "source": [
    "# Visualize with T-SNE"
   ]
  },
  {
   "cell_type": "code",
   "execution_count": 13,
   "metadata": {},
   "outputs": [],
   "source": [
    "from sklearn.manifold import TSNE"
   ]
  },
  {
   "cell_type": "code",
   "execution_count": 14,
   "metadata": {},
   "outputs": [],
   "source": [
    "cust_tsne = TSNE(2, n_jobs=-1)"
   ]
  },
  {
   "cell_type": "code",
   "execution_count": 15,
   "metadata": {},
   "outputs": [
    {
     "data": {
      "text/plain": [
       "TSNE(n_jobs=-1)"
      ]
     },
     "execution_count": 15,
     "metadata": {},
     "output_type": "execute_result"
    }
   ],
   "source": [
    "cust_tsne.fit(Xs)"
   ]
  },
  {
   "cell_type": "code",
   "execution_count": 16,
   "metadata": {},
   "outputs": [],
   "source": [
    "tsne_df = pd.DataFrame(cust_tsne.embedding_, columns=['embedding_1', 'embedding_2'])"
   ]
  },
  {
   "cell_type": "code",
   "execution_count": 17,
   "metadata": {},
   "outputs": [
    {
     "ename": "KeyError",
     "evalue": "'clust_assign'",
     "output_type": "error",
     "traceback": [
      "\u001b[0;31m---------------------------------------------------------------------------\u001b[0m",
      "\u001b[0;31mKeyError\u001b[0m                                  Traceback (most recent call last)",
      "\u001b[0;32m~/anaconda3/lib/python3.8/site-packages/pandas/core/indexes/base.py\u001b[0m in \u001b[0;36mget_loc\u001b[0;34m(self, key, method, tolerance)\u001b[0m\n\u001b[1;32m   2645\u001b[0m             \u001b[0;32mtry\u001b[0m\u001b[0;34m:\u001b[0m\u001b[0;34m\u001b[0m\u001b[0;34m\u001b[0m\u001b[0m\n\u001b[0;32m-> 2646\u001b[0;31m                 \u001b[0;32mreturn\u001b[0m \u001b[0mself\u001b[0m\u001b[0;34m.\u001b[0m\u001b[0m_engine\u001b[0m\u001b[0;34m.\u001b[0m\u001b[0mget_loc\u001b[0m\u001b[0;34m(\u001b[0m\u001b[0mkey\u001b[0m\u001b[0;34m)\u001b[0m\u001b[0;34m\u001b[0m\u001b[0;34m\u001b[0m\u001b[0m\n\u001b[0m\u001b[1;32m   2647\u001b[0m             \u001b[0;32mexcept\u001b[0m \u001b[0mKeyError\u001b[0m\u001b[0;34m:\u001b[0m\u001b[0;34m\u001b[0m\u001b[0;34m\u001b[0m\u001b[0m\n",
      "\u001b[0;32mpandas/_libs/index.pyx\u001b[0m in \u001b[0;36mpandas._libs.index.IndexEngine.get_loc\u001b[0;34m()\u001b[0m\n",
      "\u001b[0;32mpandas/_libs/index.pyx\u001b[0m in \u001b[0;36mpandas._libs.index.IndexEngine.get_loc\u001b[0;34m()\u001b[0m\n",
      "\u001b[0;32mpandas/_libs/hashtable_class_helper.pxi\u001b[0m in \u001b[0;36mpandas._libs.hashtable.PyObjectHashTable.get_item\u001b[0;34m()\u001b[0m\n",
      "\u001b[0;32mpandas/_libs/hashtable_class_helper.pxi\u001b[0m in \u001b[0;36mpandas._libs.hashtable.PyObjectHashTable.get_item\u001b[0;34m()\u001b[0m\n",
      "\u001b[0;31mKeyError\u001b[0m: 'clust_assign'",
      "\nDuring handling of the above exception, another exception occurred:\n",
      "\u001b[0;31mKeyError\u001b[0m                                  Traceback (most recent call last)",
      "\u001b[0;32m<ipython-input-17-fdb95ed27b29>\u001b[0m in \u001b[0;36m<module>\u001b[0;34m\u001b[0m\n\u001b[0;32m----> 1\u001b[0;31m \u001b[0mtsne_df\u001b[0m\u001b[0;34m[\u001b[0m\u001b[0;34m'clust_assign'\u001b[0m\u001b[0;34m]\u001b[0m \u001b[0;34m=\u001b[0m \u001b[0mall_customer_engagement\u001b[0m\u001b[0;34m[\u001b[0m\u001b[0;34m'clust_assign'\u001b[0m\u001b[0;34m]\u001b[0m\u001b[0;34m\u001b[0m\u001b[0;34m\u001b[0m\u001b[0m\n\u001b[0m",
      "\u001b[0;32m~/anaconda3/lib/python3.8/site-packages/pandas/core/frame.py\u001b[0m in \u001b[0;36m__getitem__\u001b[0;34m(self, key)\u001b[0m\n\u001b[1;32m   2798\u001b[0m             \u001b[0;32mif\u001b[0m \u001b[0mself\u001b[0m\u001b[0;34m.\u001b[0m\u001b[0mcolumns\u001b[0m\u001b[0;34m.\u001b[0m\u001b[0mnlevels\u001b[0m \u001b[0;34m>\u001b[0m \u001b[0;36m1\u001b[0m\u001b[0;34m:\u001b[0m\u001b[0;34m\u001b[0m\u001b[0;34m\u001b[0m\u001b[0m\n\u001b[1;32m   2799\u001b[0m                 \u001b[0;32mreturn\u001b[0m \u001b[0mself\u001b[0m\u001b[0;34m.\u001b[0m\u001b[0m_getitem_multilevel\u001b[0m\u001b[0;34m(\u001b[0m\u001b[0mkey\u001b[0m\u001b[0;34m)\u001b[0m\u001b[0;34m\u001b[0m\u001b[0;34m\u001b[0m\u001b[0m\n\u001b[0;32m-> 2800\u001b[0;31m             \u001b[0mindexer\u001b[0m \u001b[0;34m=\u001b[0m \u001b[0mself\u001b[0m\u001b[0;34m.\u001b[0m\u001b[0mcolumns\u001b[0m\u001b[0;34m.\u001b[0m\u001b[0mget_loc\u001b[0m\u001b[0;34m(\u001b[0m\u001b[0mkey\u001b[0m\u001b[0;34m)\u001b[0m\u001b[0;34m\u001b[0m\u001b[0;34m\u001b[0m\u001b[0m\n\u001b[0m\u001b[1;32m   2801\u001b[0m             \u001b[0;32mif\u001b[0m \u001b[0mis_integer\u001b[0m\u001b[0;34m(\u001b[0m\u001b[0mindexer\u001b[0m\u001b[0;34m)\u001b[0m\u001b[0;34m:\u001b[0m\u001b[0;34m\u001b[0m\u001b[0;34m\u001b[0m\u001b[0m\n\u001b[1;32m   2802\u001b[0m                 \u001b[0mindexer\u001b[0m \u001b[0;34m=\u001b[0m \u001b[0;34m[\u001b[0m\u001b[0mindexer\u001b[0m\u001b[0;34m]\u001b[0m\u001b[0;34m\u001b[0m\u001b[0;34m\u001b[0m\u001b[0m\n",
      "\u001b[0;32m~/anaconda3/lib/python3.8/site-packages/pandas/core/indexes/base.py\u001b[0m in \u001b[0;36mget_loc\u001b[0;34m(self, key, method, tolerance)\u001b[0m\n\u001b[1;32m   2646\u001b[0m                 \u001b[0;32mreturn\u001b[0m \u001b[0mself\u001b[0m\u001b[0;34m.\u001b[0m\u001b[0m_engine\u001b[0m\u001b[0;34m.\u001b[0m\u001b[0mget_loc\u001b[0m\u001b[0;34m(\u001b[0m\u001b[0mkey\u001b[0m\u001b[0;34m)\u001b[0m\u001b[0;34m\u001b[0m\u001b[0;34m\u001b[0m\u001b[0m\n\u001b[1;32m   2647\u001b[0m             \u001b[0;32mexcept\u001b[0m \u001b[0mKeyError\u001b[0m\u001b[0;34m:\u001b[0m\u001b[0;34m\u001b[0m\u001b[0;34m\u001b[0m\u001b[0m\n\u001b[0;32m-> 2648\u001b[0;31m                 \u001b[0;32mreturn\u001b[0m \u001b[0mself\u001b[0m\u001b[0;34m.\u001b[0m\u001b[0m_engine\u001b[0m\u001b[0;34m.\u001b[0m\u001b[0mget_loc\u001b[0m\u001b[0;34m(\u001b[0m\u001b[0mself\u001b[0m\u001b[0;34m.\u001b[0m\u001b[0m_maybe_cast_indexer\u001b[0m\u001b[0;34m(\u001b[0m\u001b[0mkey\u001b[0m\u001b[0;34m)\u001b[0m\u001b[0;34m)\u001b[0m\u001b[0;34m\u001b[0m\u001b[0;34m\u001b[0m\u001b[0m\n\u001b[0m\u001b[1;32m   2649\u001b[0m         \u001b[0mindexer\u001b[0m \u001b[0;34m=\u001b[0m \u001b[0mself\u001b[0m\u001b[0;34m.\u001b[0m\u001b[0mget_indexer\u001b[0m\u001b[0;34m(\u001b[0m\u001b[0;34m[\u001b[0m\u001b[0mkey\u001b[0m\u001b[0;34m]\u001b[0m\u001b[0;34m,\u001b[0m \u001b[0mmethod\u001b[0m\u001b[0;34m=\u001b[0m\u001b[0mmethod\u001b[0m\u001b[0;34m,\u001b[0m \u001b[0mtolerance\u001b[0m\u001b[0;34m=\u001b[0m\u001b[0mtolerance\u001b[0m\u001b[0;34m)\u001b[0m\u001b[0;34m\u001b[0m\u001b[0;34m\u001b[0m\u001b[0m\n\u001b[1;32m   2650\u001b[0m         \u001b[0;32mif\u001b[0m \u001b[0mindexer\u001b[0m\u001b[0;34m.\u001b[0m\u001b[0mndim\u001b[0m \u001b[0;34m>\u001b[0m \u001b[0;36m1\u001b[0m \u001b[0;32mor\u001b[0m \u001b[0mindexer\u001b[0m\u001b[0;34m.\u001b[0m\u001b[0msize\u001b[0m \u001b[0;34m>\u001b[0m \u001b[0;36m1\u001b[0m\u001b[0;34m:\u001b[0m\u001b[0;34m\u001b[0m\u001b[0;34m\u001b[0m\u001b[0m\n",
      "\u001b[0;32mpandas/_libs/index.pyx\u001b[0m in \u001b[0;36mpandas._libs.index.IndexEngine.get_loc\u001b[0;34m()\u001b[0m\n",
      "\u001b[0;32mpandas/_libs/index.pyx\u001b[0m in \u001b[0;36mpandas._libs.index.IndexEngine.get_loc\u001b[0;34m()\u001b[0m\n",
      "\u001b[0;32mpandas/_libs/hashtable_class_helper.pxi\u001b[0m in \u001b[0;36mpandas._libs.hashtable.PyObjectHashTable.get_item\u001b[0;34m()\u001b[0m\n",
      "\u001b[0;32mpandas/_libs/hashtable_class_helper.pxi\u001b[0m in \u001b[0;36mpandas._libs.hashtable.PyObjectHashTable.get_item\u001b[0;34m()\u001b[0m\n",
      "\u001b[0;31mKeyError\u001b[0m: 'clust_assign'"
     ]
    }
   ],
   "source": [
    "tsne_df['clust_assign'] = all_customer_engagement['clust_assign']"
   ]
  },
  {
   "cell_type": "code",
   "execution_count": null,
   "metadata": {},
   "outputs": [],
   "source": [
    "cluster_nums = list(set(tsne_df['clust_assign']))"
   ]
  },
  {
   "cell_type": "code",
   "execution_count": null,
   "metadata": {},
   "outputs": [],
   "source": [
    "color = ['blue', 'black', 'green', 'orange', 'pink','red', 'purple', 'grey']"
   ]
  },
  {
   "cell_type": "code",
   "execution_count": null,
   "metadata": {},
   "outputs": [],
   "source": [
    "plt.title('Scatter Plot of Clustering Tightness')\n",
    "for i in range(len(cluster_nums)):\n",
    "    scatter_points = tsne_df[tsne_df['clust_assign']==cluster_nums[i]]\n",
    "    plt.scatter(\n",
    "        scatter_points['embedding_1'], \n",
    "        scatter_points['embedding_2'], \n",
    "        c=color[i],\n",
    "        label=cluster_nums[i]\n",
    "    )\n",
    "plt.show()"
   ]
  },
  {
   "cell_type": "markdown",
   "metadata": {},
   "source": [
    "# Calculate Average Stats for Each Cluster"
   ]
  },
  {
   "cell_type": "code",
   "execution_count": null,
   "metadata": {},
   "outputs": [],
   "source": [
    "all_customer_engagement['clust_assign'] = cluster_assignment"
   ]
  },
  {
   "cell_type": "code",
   "execution_count": null,
   "metadata": {},
   "outputs": [],
   "source": [
    "cluster_averages = all_customer_engagement.groupby('clust_assign', as_index=False).mean()"
   ]
  },
  {
   "cell_type": "code",
   "execution_count": null,
   "metadata": {},
   "outputs": [],
   "source": [
    "pd.set_option('display.max_rows', 1000)"
   ]
  },
  {
   "cell_type": "code",
   "execution_count": null,
   "metadata": {},
   "outputs": [],
   "source": [
    "import seaborn as sns\n",
    "\n",
    "cm = sns.light_palette(\"green\", as_cmap=True)\n",
    "\n",
    "cluster_averages_shaded = cluster_averages.T.style.background_gradient(low=0, high=0, cmap=cm, axis=1)"
   ]
  },
  {
   "cell_type": "markdown",
   "metadata": {},
   "source": [
    "#### Note: I have no idea what each of the events and products are. This makes it hard to assign names to each of the clusters and manually inspect if these are useful clusters for marketing purposes. However, listed below you can see how each of the different clusters differ from one another by looking at the shading for each row."
   ]
  },
  {
   "cell_type": "code",
   "execution_count": null,
   "metadata": {
    "scrolled": false
   },
   "outputs": [],
   "source": [
    "cluster_averages_shaded"
   ]
  }
 ],
 "metadata": {
  "kernelspec": {
   "display_name": "Python 3",
   "language": "python",
   "name": "python3"
  },
  "language_info": {
   "codemirror_mode": {
    "name": "ipython",
    "version": 3
   },
   "file_extension": ".py",
   "mimetype": "text/x-python",
   "name": "python",
   "nbconvert_exporter": "python",
   "pygments_lexer": "ipython3",
   "version": "3.8.3"
  }
 },
 "nbformat": 4,
 "nbformat_minor": 4
}
