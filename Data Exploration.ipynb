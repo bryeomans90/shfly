{
 "cells": [
  {
   "cell_type": "markdown",
   "metadata": {},
   "source": [
    "https://github.com/sflydatascience/homework1"
   ]
  },
  {
   "cell_type": "code",
   "execution_count": 195,
   "metadata": {},
   "outputs": [],
   "source": [
    "import numpy as np\n",
    "import pandas as pd\n",
    "import matplotlib.pyplot as plt\n",
    "\n",
    "pd.set_option('display.max_rows', 1000)"
   ]
  },
  {
   "cell_type": "markdown",
   "metadata": {},
   "source": [
    "# Explore Online"
   ]
  },
  {
   "cell_type": "markdown",
   "metadata": {},
   "source": [
    "#### Basic Data Quality Checks and Summary"
   ]
  },
  {
   "cell_type": "code",
   "execution_count": 196,
   "metadata": {},
   "outputs": [],
   "source": [
    "online = pd.read_csv('data/online.csv')"
   ]
  },
  {
   "cell_type": "code",
   "execution_count": 197,
   "metadata": {},
   "outputs": [],
   "source": [
    "online['dt'] = pd.to_datetime(online['dt'])"
   ]
  },
  {
   "cell_type": "code",
   "execution_count": 198,
   "metadata": {},
   "outputs": [
    {
     "data": {
      "text/html": [
       "<div>\n",
       "<style scoped>\n",
       "    .dataframe tbody tr th:only-of-type {\n",
       "        vertical-align: middle;\n",
       "    }\n",
       "\n",
       "    .dataframe tbody tr th {\n",
       "        vertical-align: top;\n",
       "    }\n",
       "\n",
       "    .dataframe thead th {\n",
       "        text-align: right;\n",
       "    }\n",
       "</style>\n",
       "<table border=\"1\" class=\"dataframe\">\n",
       "  <thead>\n",
       "    <tr style=\"text-align: right;\">\n",
       "      <th></th>\n",
       "      <th>session</th>\n",
       "      <th>visitor</th>\n",
       "      <th>dt</th>\n",
       "      <th>custno</th>\n",
       "      <th>category</th>\n",
       "      <th>event1</th>\n",
       "      <th>event2</th>\n",
       "    </tr>\n",
       "  </thead>\n",
       "  <tbody>\n",
       "    <tr>\n",
       "      <th>0</th>\n",
       "      <td>419542</td>\n",
       "      <td>140970</td>\n",
       "      <td>2016-09-16 05:03:23</td>\n",
       "      <td>3840</td>\n",
       "      <td>1</td>\n",
       "      <td>NaN</td>\n",
       "      <td>1</td>\n",
       "    </tr>\n",
       "    <tr>\n",
       "      <th>1</th>\n",
       "      <td>3030130</td>\n",
       "      <td>14501</td>\n",
       "      <td>2017-11-13 04:58:12</td>\n",
       "      <td>70400</td>\n",
       "      <td>1</td>\n",
       "      <td>NaN</td>\n",
       "      <td>1</td>\n",
       "    </tr>\n",
       "    <tr>\n",
       "      <th>2</th>\n",
       "      <td>2638740</td>\n",
       "      <td>419353</td>\n",
       "      <td>2017-05-24 16:10:38</td>\n",
       "      <td>21248</td>\n",
       "      <td>1</td>\n",
       "      <td>NaN</td>\n",
       "      <td>1</td>\n",
       "    </tr>\n",
       "    <tr>\n",
       "      <th>3</th>\n",
       "      <td>880408</td>\n",
       "      <td>90673</td>\n",
       "      <td>2017-10-28 13:42:38</td>\n",
       "      <td>39168</td>\n",
       "      <td>1</td>\n",
       "      <td>NaN</td>\n",
       "      <td>1</td>\n",
       "    </tr>\n",
       "    <tr>\n",
       "      <th>4</th>\n",
       "      <td>2612179</td>\n",
       "      <td>191542</td>\n",
       "      <td>2016-05-17 06:30:32</td>\n",
       "      <td>47616</td>\n",
       "      <td>1</td>\n",
       "      <td>NaN</td>\n",
       "      <td>1</td>\n",
       "    </tr>\n",
       "  </tbody>\n",
       "</table>\n",
       "</div>"
      ],
      "text/plain": [
       "   session  visitor                  dt  custno  category  event1  event2\n",
       "0   419542   140970 2016-09-16 05:03:23    3840         1     NaN       1\n",
       "1  3030130    14501 2017-11-13 04:58:12   70400         1     NaN       1\n",
       "2  2638740   419353 2017-05-24 16:10:38   21248         1     NaN       1\n",
       "3   880408    90673 2017-10-28 13:42:38   39168         1     NaN       1\n",
       "4  2612179   191542 2016-05-17 06:30:32   47616         1     NaN       1"
      ]
     },
     "execution_count": 198,
     "metadata": {},
     "output_type": "execute_result"
    }
   ],
   "source": [
    "online.head()"
   ]
  },
  {
   "cell_type": "code",
   "execution_count": 199,
   "metadata": {},
   "outputs": [
    {
     "data": {
      "text/plain": [
       "session          0\n",
       "visitor          0\n",
       "dt               0\n",
       "custno           0\n",
       "category         0\n",
       "event1      789846\n",
       "event2           0\n",
       "dtype: int64"
      ]
     },
     "execution_count": 199,
     "metadata": {},
     "output_type": "execute_result"
    }
   ],
   "source": [
    "online.isna().sum()"
   ]
  },
  {
   "cell_type": "code",
   "execution_count": 200,
   "metadata": {},
   "outputs": [
    {
     "data": {
      "text/plain": [
       "session          0\n",
       "visitor          0\n",
       "dt               0\n",
       "custno           0\n",
       "category         0\n",
       "event1      789846\n",
       "event2           0\n",
       "dtype: int64"
      ]
     },
     "execution_count": 200,
     "metadata": {},
     "output_type": "execute_result"
    }
   ],
   "source": [
    "online.isna().sum()"
   ]
  },
  {
   "cell_type": "markdown",
   "metadata": {},
   "source": [
    "#### Number of Sessions by Day of Week"
   ]
  },
  {
   "cell_type": "code",
   "execution_count": 208,
   "metadata": {},
   "outputs": [
    {
     "data": {
      "text/html": [
       "<div>\n",
       "<style scoped>\n",
       "    .dataframe tbody tr th:only-of-type {\n",
       "        vertical-align: middle;\n",
       "    }\n",
       "\n",
       "    .dataframe tbody tr th {\n",
       "        vertical-align: top;\n",
       "    }\n",
       "\n",
       "    .dataframe thead th {\n",
       "        text-align: right;\n",
       "    }\n",
       "</style>\n",
       "<table border=\"1\" class=\"dataframe\">\n",
       "  <thead>\n",
       "    <tr style=\"text-align: right;\">\n",
       "      <th></th>\n",
       "      <th>session</th>\n",
       "      <th>visitor</th>\n",
       "      <th>dt</th>\n",
       "      <th>custno</th>\n",
       "      <th>category</th>\n",
       "      <th>event1</th>\n",
       "      <th>event2</th>\n",
       "      <th>DOW</th>\n",
       "    </tr>\n",
       "  </thead>\n",
       "  <tbody>\n",
       "    <tr>\n",
       "      <th>0</th>\n",
       "      <td>419542</td>\n",
       "      <td>140970</td>\n",
       "      <td>2016-09-16 05:03:23</td>\n",
       "      <td>3840</td>\n",
       "      <td>1</td>\n",
       "      <td>NaN</td>\n",
       "      <td>1</td>\n",
       "      <td>4</td>\n",
       "    </tr>\n",
       "    <tr>\n",
       "      <th>1</th>\n",
       "      <td>3030130</td>\n",
       "      <td>14501</td>\n",
       "      <td>2017-11-13 04:58:12</td>\n",
       "      <td>70400</td>\n",
       "      <td>1</td>\n",
       "      <td>NaN</td>\n",
       "      <td>1</td>\n",
       "      <td>0</td>\n",
       "    </tr>\n",
       "    <tr>\n",
       "      <th>2</th>\n",
       "      <td>2638740</td>\n",
       "      <td>419353</td>\n",
       "      <td>2017-05-24 16:10:38</td>\n",
       "      <td>21248</td>\n",
       "      <td>1</td>\n",
       "      <td>NaN</td>\n",
       "      <td>1</td>\n",
       "      <td>2</td>\n",
       "    </tr>\n",
       "    <tr>\n",
       "      <th>3</th>\n",
       "      <td>880408</td>\n",
       "      <td>90673</td>\n",
       "      <td>2017-10-28 13:42:38</td>\n",
       "      <td>39168</td>\n",
       "      <td>1</td>\n",
       "      <td>NaN</td>\n",
       "      <td>1</td>\n",
       "      <td>5</td>\n",
       "    </tr>\n",
       "    <tr>\n",
       "      <th>4</th>\n",
       "      <td>2612179</td>\n",
       "      <td>191542</td>\n",
       "      <td>2016-05-17 06:30:32</td>\n",
       "      <td>47616</td>\n",
       "      <td>1</td>\n",
       "      <td>NaN</td>\n",
       "      <td>1</td>\n",
       "      <td>1</td>\n",
       "    </tr>\n",
       "  </tbody>\n",
       "</table>\n",
       "</div>"
      ],
      "text/plain": [
       "   session  visitor                  dt  custno  category  event1  event2  DOW\n",
       "0   419542   140970 2016-09-16 05:03:23    3840         1     NaN       1    4\n",
       "1  3030130    14501 2017-11-13 04:58:12   70400         1     NaN       1    0\n",
       "2  2638740   419353 2017-05-24 16:10:38   21248         1     NaN       1    2\n",
       "3   880408    90673 2017-10-28 13:42:38   39168         1     NaN       1    5\n",
       "4  2612179   191542 2016-05-17 06:30:32   47616         1     NaN       1    1"
      ]
     },
     "execution_count": 208,
     "metadata": {},
     "output_type": "execute_result"
    }
   ],
   "source": [
    "online.head()"
   ]
  },
  {
   "cell_type": "code",
   "execution_count": 205,
   "metadata": {},
   "outputs": [],
   "source": [
    "online['DOW'] = online['dt'].dt.dayofweek\n",
    "unique_sessions = online[['DOW', 'session']].drop_duplicates()\n",
    "sessions_by_dow = unique_sessions.groupby('DOW').count()"
   ]
  },
  {
   "cell_type": "code",
   "execution_count": 209,
   "metadata": {},
   "outputs": [],
   "source": [
    "sessions_by_dow.index = [\n",
    "    'Monday', 'Tuesday', 'Wednesday', 'Thursday', 'Friday', 'Saturday', 'Sunday'\n",
    "]"
   ]
  },
  {
   "cell_type": "code",
   "execution_count": 215,
   "metadata": {},
   "outputs": [
    {
     "data": {
      "image/png": "[encoded data removed]",
      "text/plain": [
       "<Figure size 432x288 with 1 Axes>"
      ]
     },
     "metadata": {
      "needs_background": "light"
     },
     "output_type": "display_data"
    }
   ],
   "source": [
    "plt.title('Number of Unique Sessions by Day of Week')\n",
    "plt.bar(sessions_by_dow.index, sessions_by_dow['session'])\n",
    "plt.xticks(rotation=45)\n",
    "plt.show()"
   ]
  },
  {
   "cell_type": "markdown",
   "metadata": {},
   "source": [
    "#### Number of Sessions By Day"
   ]
  },
  {
   "cell_type": "code",
   "execution_count": 70,
   "metadata": {},
   "outputs": [],
   "source": [
    "online['date'] = online['dt'].dt.date\n",
    "unique_sessions = online[['date', 'session']].drop_duplicates()\n",
    "sessions_per_day = unique_sessions.groupby('date').count()"
   ]
  },
  {
   "cell_type": "code",
   "execution_count": 81,
   "metadata": {},
   "outputs": [
    {
     "data": {
      "image/png": "[encoded data removed]",
      "text/plain": [
       "<Figure size 432x288 with 1 Axes>"
      ]
     },
     "metadata": {
      "needs_background": "light"
     },
     "output_type": "display_data"
    }
   ],
   "source": [
    "plt.plot(sessions_per_day)\n",
    "plt.title('Number of Unique Sessions by Date')\n",
    "plt.xticks(rotation=45)\n",
    "plt.show()"
   ]
  },
  {
   "cell_type": "markdown",
   "metadata": {},
   "source": [
    "#### Distince Customers"
   ]
  },
  {
   "cell_type": "markdown",
   "metadata": {},
   "source": [
    "#### Evaluate Event 1"
   ]
  },
  {
   "cell_type": "code",
   "execution_count": 43,
   "metadata": {},
   "outputs": [],
   "source": [
    "event_1_counts = online.groupby('event1').count()['session']"
   ]
  },
  {
   "cell_type": "code",
   "execution_count": 46,
   "metadata": {},
   "outputs": [
    {
     "data": {
      "image/png": "[encoded data removed]",
      "text/plain": [
       "<Figure size 432x288 with 1 Axes>"
      ]
     },
     "metadata": {
      "needs_background": "light"
     },
     "output_type": "display_data"
    }
   ],
   "source": [
    "plt.bar(event_1_counts.index, event_1_counts)\n",
    "plt.title('Event 1 Counts by Type')\n",
    "plt.xlabel('Event 1 Counts by Type')\n",
    "plt.show()"
   ]
  },
  {
   "cell_type": "markdown",
   "metadata": {},
   "source": [
    "#### Evaluate Event 2"
   ]
  },
  {
   "cell_type": "code",
   "execution_count": 50,
   "metadata": {},
   "outputs": [],
   "source": [
    "event_2_counts = online.groupby('event2').count()['session']"
   ]
  },
  {
   "cell_type": "code",
   "execution_count": 51,
   "metadata": {},
   "outputs": [
    {
     "data": {
      "image/png": "[encoded data removed]",
      "text/plain": [
       "<Figure size 432x288 with 1 Axes>"
      ]
     },
     "metadata": {
      "needs_background": "light"
     },
     "output_type": "display_data"
    }
   ],
   "source": [
    "plt.bar(event_2_counts.index, event_2_counts)\n",
    "plt.title('Event 2 Counts by Type')\n",
    "plt.xlabel('Event 2 Counts by Type')\n",
    "plt.show()"
   ]
  },
  {
   "cell_type": "markdown",
   "metadata": {},
   "source": [
    "# Explore order.csv"
   ]
  },
  {
   "cell_type": "code",
   "execution_count": 227,
   "metadata": {},
   "outputs": [],
   "source": [
    "order = pd.read_csv('data/order.csv')"
   ]
  },
  {
   "cell_type": "code",
   "execution_count": 228,
   "metadata": {},
   "outputs": [],
   "source": [
    "def prod_cat2_nan_fill(prd_cat1, prd_cat2):\n",
    "    if np.isnan(prd_cat2):\n",
    "        return -1*prd_cat1\n",
    "    else:\n",
    "        return prd_cat2\n",
    "\n",
    "def test_prod_cat2_nan_fill():\n",
    "    in_data = [\n",
    "        [1,np.nan],\n",
    "        [2,np.nan],\n",
    "        [3,199],\n",
    "        [1,2]\n",
    "    ]\n",
    "    obs = [prod_cat2_nan_fill(x[0], x[1]) for x in in_data]\n",
    "    exp = [-1,-2, 199, 2]\n",
    "    assert obs == exp, f'obs:{obs}, exp:{exp}'\n",
    "\n",
    "test_prod_cat2_nan_fill()"
   ]
  },
  {
   "cell_type": "code",
   "execution_count": 229,
   "metadata": {},
   "outputs": [],
   "source": [
    "order['prodcat2'] = order[['prodcat1', 'prodcat2']].apply(\n",
    "    lambda row: prod_cat2_nan_fill(row['prodcat1'], row['prodcat2']), axis=1\n",
    ")"
   ]
  },
  {
   "cell_type": "markdown",
   "metadata": {},
   "source": [
    "#### Clean Up Dates"
   ]
  },
  {
   "cell_type": "code",
   "execution_count": 125,
   "metadata": {},
   "outputs": [],
   "source": [
    "order['orderdate'] = pd.to_datetime(order['orderdate'])\n",
    "order['order_year_month'] = order['orderdate'].dt.to_period('M')\n",
    "order['order_year_month'] = order['order_year_month'].apply(lambda dt: dt.to_timestamp())"
   ]
  },
  {
   "cell_type": "markdown",
   "metadata": {},
   "source": [
    "#### Check Primary Key"
   ]
  },
  {
   "cell_type": "code",
   "execution_count": 234,
   "metadata": {},
   "outputs": [
    {
     "data": {
      "text/plain": [
       "(263278, 6)"
      ]
     },
     "execution_count": 234,
     "metadata": {},
     "output_type": "execute_result"
    }
   ],
   "source": [
    "order.shape"
   ]
  },
  {
   "cell_type": "code",
   "execution_count": 241,
   "metadata": {
    "collapsed": true
   },
   "outputs": [
    {
     "data": {
      "text/html": [
       "<div>\n",
       "<style scoped>\n",
       "    .dataframe tbody tr th:only-of-type {\n",
       "        vertical-align: middle;\n",
       "    }\n",
       "\n",
       "    .dataframe tbody tr th {\n",
       "        vertical-align: top;\n",
       "    }\n",
       "\n",
       "    .dataframe thead th {\n",
       "        text-align: right;\n",
       "    }\n",
       "</style>\n",
       "<table border=\"1\" class=\"dataframe\">\n",
       "  <thead>\n",
       "    <tr style=\"text-align: right;\">\n",
       "      <th></th>\n",
       "      <th>custno</th>\n",
       "      <th>ordno</th>\n",
       "      <th>orderdate</th>\n",
       "      <th>prodcat2</th>\n",
       "      <th>prodcat1</th>\n",
       "      <th>revenue</th>\n",
       "    </tr>\n",
       "  </thead>\n",
       "  <tbody>\n",
       "    <tr>\n",
       "      <th>0</th>\n",
       "      <td>18944</td>\n",
       "      <td>64694</td>\n",
       "      <td>2016-11-27 20:57:20</td>\n",
       "      <td>-1.0</td>\n",
       "      <td>1</td>\n",
       "      <td>53.30</td>\n",
       "    </tr>\n",
       "    <tr>\n",
       "      <th>1</th>\n",
       "      <td>18944</td>\n",
       "      <td>114405</td>\n",
       "      <td>2017-04-29 20:18:04</td>\n",
       "      <td>-1.0</td>\n",
       "      <td>1</td>\n",
       "      <td>0.10</td>\n",
       "    </tr>\n",
       "    <tr>\n",
       "      <th>2</th>\n",
       "      <td>18944</td>\n",
       "      <td>28906</td>\n",
       "      <td>2017-04-23 21:31:03</td>\n",
       "      <td>-1.0</td>\n",
       "      <td>1</td>\n",
       "      <td>141.66</td>\n",
       "    </tr>\n",
       "    <tr>\n",
       "      <th>3</th>\n",
       "      <td>36096</td>\n",
       "      <td>62681</td>\n",
       "      <td>2016-02-25 07:16:33</td>\n",
       "      <td>-1.0</td>\n",
       "      <td>1</td>\n",
       "      <td>36.82</td>\n",
       "    </tr>\n",
       "    <tr>\n",
       "      <th>4</th>\n",
       "      <td>1</td>\n",
       "      <td>1</td>\n",
       "      <td>2017-06-12 08:27:59</td>\n",
       "      <td>-1.0</td>\n",
       "      <td>1</td>\n",
       "      <td>8.35</td>\n",
       "    </tr>\n",
       "    <tr>\n",
       "      <th>...</th>\n",
       "      <td>...</td>\n",
       "      <td>...</td>\n",
       "      <td>...</td>\n",
       "      <td>...</td>\n",
       "      <td>...</td>\n",
       "      <td>...</td>\n",
       "    </tr>\n",
       "    <tr>\n",
       "      <th>263273</th>\n",
       "      <td>7443</td>\n",
       "      <td>99084</td>\n",
       "      <td>2018-09-23 16:02:08</td>\n",
       "      <td>253.0</td>\n",
       "      <td>1</td>\n",
       "      <td>6.67</td>\n",
       "    </tr>\n",
       "    <tr>\n",
       "      <th>263274</th>\n",
       "      <td>6693</td>\n",
       "      <td>8660</td>\n",
       "      <td>2017-06-08 21:37:34</td>\n",
       "      <td>253.0</td>\n",
       "      <td>1</td>\n",
       "      <td>122.98</td>\n",
       "    </tr>\n",
       "    <tr>\n",
       "      <th>263275</th>\n",
       "      <td>22914</td>\n",
       "      <td>36144</td>\n",
       "      <td>2017-05-12 14:07:18</td>\n",
       "      <td>253.0</td>\n",
       "      <td>1</td>\n",
       "      <td>143.34</td>\n",
       "    </tr>\n",
       "    <tr>\n",
       "      <th>263276</th>\n",
       "      <td>36088</td>\n",
       "      <td>62664</td>\n",
       "      <td>2018-03-11 20:19:18</td>\n",
       "      <td>253.0</td>\n",
       "      <td>1</td>\n",
       "      <td>49.75</td>\n",
       "    </tr>\n",
       "    <tr>\n",
       "      <th>263277</th>\n",
       "      <td>827</td>\n",
       "      <td>34605</td>\n",
       "      <td>2016-01-18 08:34:57</td>\n",
       "      <td>255.0</td>\n",
       "      <td>3</td>\n",
       "      <td>63.06</td>\n",
       "    </tr>\n",
       "  </tbody>\n",
       "</table>\n",
       "<p>263278 rows × 6 columns</p>\n",
       "</div>"
      ],
      "text/plain": [
       "        custno   ordno            orderdate  prodcat2  prodcat1  revenue\n",
       "0        18944   64694  2016-11-27 20:57:20      -1.0         1    53.30\n",
       "1        18944  114405  2017-04-29 20:18:04      -1.0         1     0.10\n",
       "2        18944   28906  2017-04-23 21:31:03      -1.0         1   141.66\n",
       "3        36096   62681  2016-02-25 07:16:33      -1.0         1    36.82\n",
       "4            1       1  2017-06-12 08:27:59      -1.0         1     8.35\n",
       "...        ...     ...                  ...       ...       ...      ...\n",
       "263273    7443   99084  2018-09-23 16:02:08     253.0         1     6.67\n",
       "263274    6693    8660  2017-06-08 21:37:34     253.0         1   122.98\n",
       "263275   22914   36144  2017-05-12 14:07:18     253.0         1   143.34\n",
       "263276   36088   62664  2018-03-11 20:19:18     253.0         1    49.75\n",
       "263277     827   34605  2016-01-18 08:34:57     255.0         3    63.06\n",
       "\n",
       "[263278 rows x 6 columns]"
      ]
     },
     "execution_count": 241,
     "metadata": {},
     "output_type": "execute_result"
    }
   ],
   "source": [
    "order"
   ]
  },
  {
   "cell_type": "code",
   "execution_count": 245,
   "metadata": {},
   "outputs": [
    {
     "data": {
      "text/plain": [
       "(263278, 3)"
      ]
     },
     "execution_count": 245,
     "metadata": {},
     "output_type": "execute_result"
    }
   ],
   "source": [
    "order[['ordno','prodcat2', 'revenue']].drop_duplicates().shape"
   ]
  },
  {
   "cell_type": "markdown",
   "metadata": {},
   "source": [
    "#### Distribution of Revenue by Category "
   ]
  },
  {
   "cell_type": "code",
   "execution_count": 9,
   "metadata": {},
   "outputs": [
    {
     "data": {
      "text/html": [
       "<div>\n",
       "<style scoped>\n",
       "    .dataframe tbody tr th:only-of-type {\n",
       "        vertical-align: middle;\n",
       "    }\n",
       "\n",
       "    .dataframe tbody tr th {\n",
       "        vertical-align: top;\n",
       "    }\n",
       "\n",
       "    .dataframe thead th {\n",
       "        text-align: right;\n",
       "    }\n",
       "</style>\n",
       "<table border=\"1\" class=\"dataframe\">\n",
       "  <thead>\n",
       "    <tr style=\"text-align: right;\">\n",
       "      <th></th>\n",
       "      <th>count</th>\n",
       "      <th>mean</th>\n",
       "      <th>std</th>\n",
       "      <th>min</th>\n",
       "      <th>25%</th>\n",
       "      <th>50%</th>\n",
       "      <th>75%</th>\n",
       "      <th>max</th>\n",
       "    </tr>\n",
       "    <tr>\n",
       "      <th>prodcat1</th>\n",
       "      <th></th>\n",
       "      <th></th>\n",
       "      <th></th>\n",
       "      <th></th>\n",
       "      <th></th>\n",
       "      <th></th>\n",
       "      <th></th>\n",
       "      <th></th>\n",
       "    </tr>\n",
       "  </thead>\n",
       "  <tbody>\n",
       "    <tr>\n",
       "      <th>1</th>\n",
       "      <td>48672.0</td>\n",
       "      <td>74.880807</td>\n",
       "      <td>43.219422</td>\n",
       "      <td>0.00</td>\n",
       "      <td>37.0700</td>\n",
       "      <td>75.120</td>\n",
       "      <td>112.00</td>\n",
       "      <td>150.0</td>\n",
       "    </tr>\n",
       "    <tr>\n",
       "      <th>2</th>\n",
       "      <td>88684.0</td>\n",
       "      <td>75.208527</td>\n",
       "      <td>43.299121</td>\n",
       "      <td>0.00</td>\n",
       "      <td>37.7600</td>\n",
       "      <td>75.255</td>\n",
       "      <td>112.62</td>\n",
       "      <td>150.0</td>\n",
       "    </tr>\n",
       "    <tr>\n",
       "      <th>3</th>\n",
       "      <td>44019.0</td>\n",
       "      <td>74.747437</td>\n",
       "      <td>43.192556</td>\n",
       "      <td>0.01</td>\n",
       "      <td>37.3400</td>\n",
       "      <td>74.610</td>\n",
       "      <td>112.00</td>\n",
       "      <td>150.0</td>\n",
       "    </tr>\n",
       "    <tr>\n",
       "      <th>4</th>\n",
       "      <td>46681.0</td>\n",
       "      <td>74.653734</td>\n",
       "      <td>43.349344</td>\n",
       "      <td>0.00</td>\n",
       "      <td>37.1400</td>\n",
       "      <td>74.550</td>\n",
       "      <td>112.11</td>\n",
       "      <td>150.0</td>\n",
       "    </tr>\n",
       "    <tr>\n",
       "      <th>5</th>\n",
       "      <td>11180.0</td>\n",
       "      <td>75.676608</td>\n",
       "      <td>43.065655</td>\n",
       "      <td>0.00</td>\n",
       "      <td>38.7975</td>\n",
       "      <td>75.685</td>\n",
       "      <td>112.90</td>\n",
       "      <td>150.0</td>\n",
       "    </tr>\n",
       "    <tr>\n",
       "      <th>7</th>\n",
       "      <td>24042.0</td>\n",
       "      <td>74.627529</td>\n",
       "      <td>43.420142</td>\n",
       "      <td>0.01</td>\n",
       "      <td>36.8425</td>\n",
       "      <td>74.180</td>\n",
       "      <td>112.22</td>\n",
       "      <td>150.0</td>\n",
       "    </tr>\n",
       "  </tbody>\n",
       "</table>\n",
       "</div>"
      ],
      "text/plain": [
       "            count       mean        std   min      25%     50%     75%    max\n",
       "prodcat1                                                                     \n",
       "1         48672.0  74.880807  43.219422  0.00  37.0700  75.120  112.00  150.0\n",
       "2         88684.0  75.208527  43.299121  0.00  37.7600  75.255  112.62  150.0\n",
       "3         44019.0  74.747437  43.192556  0.01  37.3400  74.610  112.00  150.0\n",
       "4         46681.0  74.653734  43.349344  0.00  37.1400  74.550  112.11  150.0\n",
       "5         11180.0  75.676608  43.065655  0.00  38.7975  75.685  112.90  150.0\n",
       "7         24042.0  74.627529  43.420142  0.01  36.8425  74.180  112.22  150.0"
      ]
     },
     "execution_count": 9,
     "metadata": {},
     "output_type": "execute_result"
    }
   ],
   "source": [
    "order.groupby('prodcat1').agg('describe')['revenue']"
   ]
  },
  {
   "cell_type": "code",
   "execution_count": 12,
   "metadata": {},
   "outputs": [
    {
     "data": {
      "image/png": "[encoded data removed]",
      "text/plain": [
       "<Figure size 432x288 with 1 Axes>"
      ]
     },
     "metadata": {
      "needs_background": "light"
     },
     "output_type": "display_data"
    }
   ],
   "source": [
    "order['revenue'].hist()\n",
    "plt.title('Histogram of Revenue Values')\n",
    "plt.xlabel('Revenue in $')\n",
    "plt.show()"
   ]
  },
  {
   "cell_type": "markdown",
   "metadata": {},
   "source": [
    "#### Orders of Prodcat1 by date"
   ]
  },
  {
   "cell_type": "code",
   "execution_count": 126,
   "metadata": {},
   "outputs": [],
   "source": [
    "orders_by_date_and_cat1_long = order.groupby(\n",
    "    ['order_year_month', 'prodcat1'], as_index=False\n",
    ").count()[\n",
    "    ['order_year_month', 'prodcat1', 'ordno']\n",
    "]"
   ]
  },
  {
   "cell_type": "code",
   "execution_count": 127,
   "metadata": {},
   "outputs": [],
   "source": [
    "orders_by_date_and_cat1 = orders_by_date_and_cat1_long.pivot(\n",
    "    index='order_year_month', columns='prodcat1', values='ordno'\n",
    ")"
   ]
  },
  {
   "cell_type": "code",
   "execution_count": 175,
   "metadata": {
    "scrolled": false
   },
   "outputs": [
    {
     "data": {
      "image/png": "[encoded data removed]",
      "text/plain": [
       "<Figure size 432x288 with 1 Axes>"
      ]
     },
     "metadata": {
      "needs_background": "light"
     },
     "output_type": "display_data"
    },
    {
     "data": {
      "image/png": "[encoded data removed]",
      "text/plain": [
       "<Figure size 432x288 with 1 Axes>"
      ]
     },
     "metadata": {
      "needs_background": "light"
     },
     "output_type": "display_data"
    },
    {
     "data": {
      "image/png": "[encoded data removed]",
      "text/plain": [
       "<Figure size 432x288 with 1 Axes>"
      ]
     },
     "metadata": {
      "needs_background": "light"
     },
     "output_type": "display_data"
    },
    {
     "data": {
      "image/png": "[encoded data removed]",
      "text/plain": [
       "<Figure size 432x288 with 1 Axes>"
      ]
     },
     "metadata": {
      "needs_background": "light"
     },
     "output_type": "display_data"
    },
    {
     "data": {
      "image/png": "[encoded data removed]",
      "text/plain": [
       "<Figure size 432x288 with 1 Axes>"
      ]
     },
     "metadata": {
      "needs_background": "light"
     },
     "output_type": "display_data"
    },
    {
     "data": {
      "image/png": "[encoded data removed]",
      "text/plain": [
       "<Figure size 432x288 with 1 Axes>"
      ]
     },
     "metadata": {
      "needs_background": "light"
     },
     "output_type": "display_data"
    }
   ],
   "source": [
    "for i in [1,2,3,4,5,7]:\n",
    "    plt.plot(\n",
    "        orders_by_date_and_cat1.index, \n",
    "        orders_by_date_and_cat1[i], \n",
    "        label=f'Category {i} Orders',\n",
    "        color='black'\n",
    "    )\n",
    "    plt.title(f'Total Orders for Category {i}')\n",
    "    plt.xticks(rotation=45)\n",
    "    plt.ylabel('Total Orders')\n",
    "    plt.xlabel('Date of Order')\n",
    "    plt.vlines([\n",
    "        pd.to_datetime('12-25-2016'), pd.to_datetime('12-25-2017'), pd.to_datetime('12-25-2018')\n",
    "    ],0,5000, colors='Green', label='Xmas')\n",
    "    plt.vlines([\n",
    "        pd.to_datetime('2-14-2016'), pd.to_datetime('2-14-2017'), pd.to_datetime('2-14-2018')\n",
    "    ],0,5000, colors='red', label='Valentines Day')\n",
    "    plt.vlines([\n",
    "        pd.to_datetime('11-24-2016'), pd.to_datetime('11-23-2017'), pd.to_datetime('11-22-2018')\n",
    "    ],0,5000, colors='Orange', label='Thanksgiving')\n",
    "    plt.ylim(0,5000)\n",
    "    plt.legend(loc='upper left')\n",
    "    plt.show()"
   ]
  },
  {
   "cell_type": "markdown",
   "metadata": {},
   "source": [
    "# Pair-wise Directed Graph of Items"
   ]
  },
  {
   "cell_type": "code",
   "execution_count": 246,
   "metadata": {},
   "outputs": [],
   "source": [
    "from mlxtend.frequent_patterns import apriori\n",
    "from mlxtend.frequent_patterns import association_rules"
   ]
  },
  {
   "cell_type": "markdown",
   "metadata": {},
   "source": [
    "#### Convert into pairs"
   ]
  },
  {
   "cell_type": "code",
   "execution_count": null,
   "metadata": {},
   "outputs": [],
   "source": []
  },
  {
   "cell_type": "code",
   "execution_count": null,
   "metadata": {},
   "outputs": [],
   "source": [
    "order"
   ]
  },
  {
   "cell_type": "code",
   "execution_count": 193,
   "metadata": {},
   "outputs": [
    {
     "data": {
      "text/html": [
       "<div>\n",
       "<style scoped>\n",
       "    .dataframe tbody tr th:only-of-type {\n",
       "        vertical-align: middle;\n",
       "    }\n",
       "\n",
       "    .dataframe tbody tr th {\n",
       "        vertical-align: top;\n",
       "    }\n",
       "\n",
       "    .dataframe thead th {\n",
       "        text-align: right;\n",
       "    }\n",
       "</style>\n",
       "<table border=\"1\" class=\"dataframe\">\n",
       "  <thead>\n",
       "    <tr style=\"text-align: right;\">\n",
       "      <th></th>\n",
       "      <th>custno</th>\n",
       "      <th>ordno</th>\n",
       "      <th>orderdate</th>\n",
       "      <th>prodcat2</th>\n",
       "      <th>prodcat1</th>\n",
       "      <th>revenue</th>\n",
       "      <th>date</th>\n",
       "      <th>order_year_month</th>\n",
       "      <th>null_cat2</th>\n",
       "    </tr>\n",
       "  </thead>\n",
       "  <tbody>\n",
       "    <tr>\n",
       "      <th>0</th>\n",
       "      <td>18944</td>\n",
       "      <td>64694</td>\n",
       "      <td>2016-11-27 20:57:20</td>\n",
       "      <td>-1.0</td>\n",
       "      <td>1</td>\n",
       "      <td>53.30</td>\n",
       "      <td>2016-11-27</td>\n",
       "      <td>2016-11-01</td>\n",
       "      <td>True</td>\n",
       "    </tr>\n",
       "    <tr>\n",
       "      <th>1</th>\n",
       "      <td>18944</td>\n",
       "      <td>114405</td>\n",
       "      <td>2017-04-29 20:18:04</td>\n",
       "      <td>-1.0</td>\n",
       "      <td>1</td>\n",
       "      <td>0.10</td>\n",
       "      <td>2017-04-29</td>\n",
       "      <td>2017-04-01</td>\n",
       "      <td>True</td>\n",
       "    </tr>\n",
       "    <tr>\n",
       "      <th>2</th>\n",
       "      <td>18944</td>\n",
       "      <td>28906</td>\n",
       "      <td>2017-04-23 21:31:03</td>\n",
       "      <td>-1.0</td>\n",
       "      <td>1</td>\n",
       "      <td>141.66</td>\n",
       "      <td>2017-04-23</td>\n",
       "      <td>2017-04-01</td>\n",
       "      <td>True</td>\n",
       "    </tr>\n",
       "    <tr>\n",
       "      <th>3</th>\n",
       "      <td>36096</td>\n",
       "      <td>62681</td>\n",
       "      <td>2016-02-25 07:16:33</td>\n",
       "      <td>-1.0</td>\n",
       "      <td>1</td>\n",
       "      <td>36.82</td>\n",
       "      <td>2016-02-25</td>\n",
       "      <td>2016-02-01</td>\n",
       "      <td>True</td>\n",
       "    </tr>\n",
       "    <tr>\n",
       "      <th>4</th>\n",
       "      <td>1</td>\n",
       "      <td>1</td>\n",
       "      <td>2017-06-12 08:27:59</td>\n",
       "      <td>-1.0</td>\n",
       "      <td>1</td>\n",
       "      <td>8.35</td>\n",
       "      <td>2017-06-12</td>\n",
       "      <td>2017-06-01</td>\n",
       "      <td>True</td>\n",
       "    </tr>\n",
       "  </tbody>\n",
       "</table>\n",
       "</div>"
      ],
      "text/plain": [
       "   custno   ordno           orderdate  prodcat2  prodcat1  revenue  \\\n",
       "0   18944   64694 2016-11-27 20:57:20      -1.0         1    53.30   \n",
       "1   18944  114405 2017-04-29 20:18:04      -1.0         1     0.10   \n",
       "2   18944   28906 2017-04-23 21:31:03      -1.0         1   141.66   \n",
       "3   36096   62681 2016-02-25 07:16:33      -1.0         1    36.82   \n",
       "4       1       1 2017-06-12 08:27:59      -1.0         1     8.35   \n",
       "\n",
       "         date order_year_month  null_cat2  \n",
       "0  2016-11-27       2016-11-01       True  \n",
       "1  2017-04-29       2017-04-01       True  \n",
       "2  2017-04-23       2017-04-01       True  \n",
       "3  2016-02-25       2016-02-01       True  \n",
       "4  2017-06-12       2017-06-01       True  "
      ]
     },
     "execution_count": 193,
     "metadata": {},
     "output_type": "execute_result"
    }
   ],
   "source": [
    "order.head()"
   ]
  },
  {
   "cell_type": "code",
   "execution_count": null,
   "metadata": {},
   "outputs": [],
   "source": [
    "order.groupby()"
   ]
  },
  {
   "cell_type": "markdown",
   "metadata": {},
   "source": [
    "#### Which Products Tend to be Purchased Together"
   ]
  },
  {
   "cell_type": "code",
   "execution_count": null,
   "metadata": {},
   "outputs": [],
   "source": [
    "G.add_edges_from()"
   ]
  },
  {
   "cell_type": "code",
   "execution_count": 181,
   "metadata": {},
   "outputs": [
    {
     "data": {
      "image/png": "[encoded data removed]",
      "text/plain": [
       "<Figure size 432x288 with 1 Axes>"
      ]
     },
     "metadata": {},
     "output_type": "display_data"
    }
   ],
   "source": [
    "import networkx as nx\n",
    "import matplotlib.pyplot as plt\n",
    "G = nx.Graph()\n",
    "G.add_edge(1,2)\n",
    "G.add_edge(1,3)\n",
    "G.add_node(4, size=100, weight=.1)\n",
    "nx.draw(G, with_labels=True)\n",
    "plt.show()"
   ]
  },
  {
   "cell_type": "markdown",
   "metadata": {},
   "source": [
    "# Junk Below"
   ]
  },
  {
   "cell_type": "code",
   "execution_count": 25,
   "metadata": {},
   "outputs": [],
   "source": [
    "n_records_by_session = online.groupby('session').count()[['custno', 'visitor']]"
   ]
  },
  {
   "cell_type": "code",
   "execution_count": 34,
   "metadata": {},
   "outputs": [
    {
     "data": {
      "text/html": [
       "<div>\n",
       "<style scoped>\n",
       "    .dataframe tbody tr th:only-of-type {\n",
       "        vertical-align: middle;\n",
       "    }\n",
       "\n",
       "    .dataframe tbody tr th {\n",
       "        vertical-align: top;\n",
       "    }\n",
       "\n",
       "    .dataframe thead th {\n",
       "        text-align: right;\n",
       "    }\n",
       "</style>\n",
       "<table border=\"1\" class=\"dataframe\">\n",
       "  <thead>\n",
       "    <tr style=\"text-align: right;\">\n",
       "      <th></th>\n",
       "      <th>session</th>\n",
       "      <th>visitor</th>\n",
       "      <th>dt</th>\n",
       "      <th>custno</th>\n",
       "      <th>category</th>\n",
       "      <th>event1</th>\n",
       "      <th>event2</th>\n",
       "    </tr>\n",
       "  </thead>\n",
       "  <tbody>\n",
       "    <tr>\n",
       "      <th>228862</th>\n",
       "      <td>72733</td>\n",
       "      <td>309625</td>\n",
       "      <td>2017-01-29 09:57:22</td>\n",
       "      <td>59156</td>\n",
       "      <td>3</td>\n",
       "      <td>NaN</td>\n",
       "      <td>3</td>\n",
       "    </tr>\n",
       "    <tr>\n",
       "      <th>333791</th>\n",
       "      <td>72733</td>\n",
       "      <td>309625</td>\n",
       "      <td>2017-01-29 09:44:33</td>\n",
       "      <td>59156</td>\n",
       "      <td>3</td>\n",
       "      <td>NaN</td>\n",
       "      <td>4</td>\n",
       "    </tr>\n",
       "    <tr>\n",
       "      <th>464634</th>\n",
       "      <td>72733</td>\n",
       "      <td>309625</td>\n",
       "      <td>2017-01-29 09:14:43</td>\n",
       "      <td>59156</td>\n",
       "      <td>3</td>\n",
       "      <td>NaN</td>\n",
       "      <td>7</td>\n",
       "    </tr>\n",
       "    <tr>\n",
       "      <th>656378</th>\n",
       "      <td>72733</td>\n",
       "      <td>309625</td>\n",
       "      <td>2017-01-29 09:18:36</td>\n",
       "      <td>59156</td>\n",
       "      <td>3</td>\n",
       "      <td>NaN</td>\n",
       "      <td>8</td>\n",
       "    </tr>\n",
       "    <tr>\n",
       "      <th>749829</th>\n",
       "      <td>72733</td>\n",
       "      <td>309625</td>\n",
       "      <td>2017-01-29 09:46:58</td>\n",
       "      <td>59156</td>\n",
       "      <td>3</td>\n",
       "      <td>NaN</td>\n",
       "      <td>9</td>\n",
       "    </tr>\n",
       "  </tbody>\n",
       "</table>\n",
       "</div>"
      ],
      "text/plain": [
       "        session  visitor                   dt  custno  category  event1  \\\n",
       "228862    72733   309625  2017-01-29 09:57:22   59156         3     NaN   \n",
       "333791    72733   309625  2017-01-29 09:44:33   59156         3     NaN   \n",
       "464634    72733   309625  2017-01-29 09:14:43   59156         3     NaN   \n",
       "656378    72733   309625  2017-01-29 09:18:36   59156         3     NaN   \n",
       "749829    72733   309625  2017-01-29 09:46:58   59156         3     NaN   \n",
       "\n",
       "        event2  \n",
       "228862       3  \n",
       "333791       4  \n",
       "464634       7  \n",
       "656378       8  \n",
       "749829       9  "
      ]
     },
     "execution_count": 34,
     "metadata": {},
     "output_type": "execute_result"
    }
   ],
   "source": [
    "online[online['session'] == 72733]"
   ]
  },
  {
   "cell_type": "code",
   "execution_count": 33,
   "metadata": {},
   "outputs": [
    {
     "data": {
      "text/html": [
       "<div>\n",
       "<style scoped>\n",
       "    .dataframe tbody tr th:only-of-type {\n",
       "        vertical-align: middle;\n",
       "    }\n",
       "\n",
       "    .dataframe tbody tr th {\n",
       "        vertical-align: top;\n",
       "    }\n",
       "\n",
       "    .dataframe thead th {\n",
       "        text-align: right;\n",
       "    }\n",
       "</style>\n",
       "<table border=\"1\" class=\"dataframe\">\n",
       "  <thead>\n",
       "    <tr style=\"text-align: right;\">\n",
       "      <th></th>\n",
       "      <th>custno</th>\n",
       "      <th>visitor</th>\n",
       "    </tr>\n",
       "    <tr>\n",
       "      <th>session</th>\n",
       "      <th></th>\n",
       "      <th></th>\n",
       "    </tr>\n",
       "  </thead>\n",
       "  <tbody>\n",
       "    <tr>\n",
       "      <th>72733</th>\n",
       "      <td>5</td>\n",
       "      <td>5</td>\n",
       "    </tr>\n",
       "    <tr>\n",
       "      <th>157423</th>\n",
       "      <td>5</td>\n",
       "      <td>5</td>\n",
       "    </tr>\n",
       "    <tr>\n",
       "      <th>161973</th>\n",
       "      <td>5</td>\n",
       "      <td>5</td>\n",
       "    </tr>\n",
       "    <tr>\n",
       "      <th>692928</th>\n",
       "      <td>5</td>\n",
       "      <td>5</td>\n",
       "    </tr>\n",
       "    <tr>\n",
       "      <th>811699</th>\n",
       "      <td>5</td>\n",
       "      <td>5</td>\n",
       "    </tr>\n",
       "    <tr>\n",
       "      <th>1178030</th>\n",
       "      <td>5</td>\n",
       "      <td>5</td>\n",
       "    </tr>\n",
       "    <tr>\n",
       "      <th>1564273</th>\n",
       "      <td>5</td>\n",
       "      <td>5</td>\n",
       "    </tr>\n",
       "    <tr>\n",
       "      <th>1588057</th>\n",
       "      <td>5</td>\n",
       "      <td>5</td>\n",
       "    </tr>\n",
       "    <tr>\n",
       "      <th>1635458</th>\n",
       "      <td>5</td>\n",
       "      <td>5</td>\n",
       "    </tr>\n",
       "    <tr>\n",
       "      <th>1719468</th>\n",
       "      <td>5</td>\n",
       "      <td>5</td>\n",
       "    </tr>\n",
       "    <tr>\n",
       "      <th>1804477</th>\n",
       "      <td>5</td>\n",
       "      <td>5</td>\n",
       "    </tr>\n",
       "    <tr>\n",
       "      <th>1910261</th>\n",
       "      <td>5</td>\n",
       "      <td>5</td>\n",
       "    </tr>\n",
       "    <tr>\n",
       "      <th>2034846</th>\n",
       "      <td>5</td>\n",
       "      <td>5</td>\n",
       "    </tr>\n",
       "    <tr>\n",
       "      <th>2080430</th>\n",
       "      <td>5</td>\n",
       "      <td>5</td>\n",
       "    </tr>\n",
       "    <tr>\n",
       "      <th>2158453</th>\n",
       "      <td>5</td>\n",
       "      <td>5</td>\n",
       "    </tr>\n",
       "    <tr>\n",
       "      <th>2733629</th>\n",
       "      <td>5</td>\n",
       "      <td>5</td>\n",
       "    </tr>\n",
       "    <tr>\n",
       "      <th>3281555</th>\n",
       "      <td>5</td>\n",
       "      <td>5</td>\n",
       "    </tr>\n",
       "  </tbody>\n",
       "</table>\n",
       "</div>"
      ],
      "text/plain": [
       "         custno  visitor\n",
       "session                 \n",
       "72733         5        5\n",
       "157423        5        5\n",
       "161973        5        5\n",
       "692928        5        5\n",
       "811699        5        5\n",
       "1178030       5        5\n",
       "1564273       5        5\n",
       "1588057       5        5\n",
       "1635458       5        5\n",
       "1719468       5        5\n",
       "1804477       5        5\n",
       "1910261       5        5\n",
       "2034846       5        5\n",
       "2080430       5        5\n",
       "2158453       5        5\n",
       "2733629       5        5\n",
       "3281555       5        5"
      ]
     },
     "execution_count": 33,
     "metadata": {},
     "output_type": "execute_result"
    }
   ],
   "source": [
    "n_records_by_session[n_records_by_session['custno']>4]"
   ]
  },
  {
   "cell_type": "code",
   "execution_count": 14,
   "metadata": {},
   "outputs": [
    {
     "data": {
      "text/html": [
       "<div>\n",
       "<style scoped>\n",
       "    .dataframe tbody tr th:only-of-type {\n",
       "        vertical-align: middle;\n",
       "    }\n",
       "\n",
       "    .dataframe tbody tr th {\n",
       "        vertical-align: top;\n",
       "    }\n",
       "\n",
       "    .dataframe thead th {\n",
       "        text-align: right;\n",
       "    }\n",
       "</style>\n",
       "<table border=\"1\" class=\"dataframe\">\n",
       "  <thead>\n",
       "    <tr style=\"text-align: right;\">\n",
       "      <th></th>\n",
       "      <th>session</th>\n",
       "      <th>visitor</th>\n",
       "      <th>dt</th>\n",
       "      <th>custno</th>\n",
       "      <th>category</th>\n",
       "      <th>event1</th>\n",
       "      <th>event2</th>\n",
       "    </tr>\n",
       "  </thead>\n",
       "  <tbody>\n",
       "    <tr>\n",
       "      <th>1</th>\n",
       "      <td>3030130</td>\n",
       "      <td>14501</td>\n",
       "      <td>2017-11-13 04:58:12</td>\n",
       "      <td>70400</td>\n",
       "      <td>1</td>\n",
       "      <td>NaN</td>\n",
       "      <td>1</td>\n",
       "    </tr>\n",
       "  </tbody>\n",
       "</table>\n",
       "</div>"
      ],
      "text/plain": [
       "   session  visitor                   dt  custno  category  event1  event2\n",
       "1  3030130    14501  2017-11-13 04:58:12   70400         1     NaN       1"
      ]
     },
     "execution_count": 14,
     "metadata": {},
     "output_type": "execute_result"
    }
   ],
   "source": [
    "online[online['session']==3030130]"
   ]
  },
  {
   "cell_type": "code",
   "execution_count": 11,
   "metadata": {},
   "outputs": [
    {
     "data": {
      "text/html": [
       "<div>\n",
       "<style scoped>\n",
       "    .dataframe tbody tr th:only-of-type {\n",
       "        vertical-align: middle;\n",
       "    }\n",
       "\n",
       "    .dataframe tbody tr th {\n",
       "        vertical-align: top;\n",
       "    }\n",
       "\n",
       "    .dataframe thead th {\n",
       "        text-align: right;\n",
       "    }\n",
       "</style>\n",
       "<table border=\"1\" class=\"dataframe\">\n",
       "  <thead>\n",
       "    <tr style=\"text-align: right;\">\n",
       "      <th></th>\n",
       "      <th>session</th>\n",
       "      <th>visitor</th>\n",
       "      <th>dt</th>\n",
       "      <th>custno</th>\n",
       "      <th>event1</th>\n",
       "      <th>event2</th>\n",
       "    </tr>\n",
       "    <tr>\n",
       "      <th>category</th>\n",
       "      <th></th>\n",
       "      <th></th>\n",
       "      <th></th>\n",
       "      <th></th>\n",
       "      <th></th>\n",
       "      <th></th>\n",
       "    </tr>\n",
       "  </thead>\n",
       "  <tbody>\n",
       "    <tr>\n",
       "      <th>1</th>\n",
       "      <td>52964</td>\n",
       "      <td>52964</td>\n",
       "      <td>52964</td>\n",
       "      <td>52964</td>\n",
       "      <td>11330</td>\n",
       "      <td>52964</td>\n",
       "    </tr>\n",
       "    <tr>\n",
       "      <th>2</th>\n",
       "      <td>194890</td>\n",
       "      <td>194890</td>\n",
       "      <td>194890</td>\n",
       "      <td>194890</td>\n",
       "      <td>55558</td>\n",
       "      <td>194890</td>\n",
       "    </tr>\n",
       "    <tr>\n",
       "      <th>3</th>\n",
       "      <td>706920</td>\n",
       "      <td>706920</td>\n",
       "      <td>706920</td>\n",
       "      <td>706920</td>\n",
       "      <td>98040</td>\n",
       "      <td>706920</td>\n",
       "    </tr>\n",
       "  </tbody>\n",
       "</table>\n",
       "</div>"
      ],
      "text/plain": [
       "          session  visitor      dt  custno  event1  event2\n",
       "category                                                  \n",
       "1           52964    52964   52964   52964   11330   52964\n",
       "2          194890   194890  194890  194890   55558  194890\n",
       "3          706920   706920  706920  706920   98040  706920"
      ]
     },
     "execution_count": 11,
     "metadata": {},
     "output_type": "execute_result"
    }
   ],
   "source": [
    "online.groupby('category').count()"
   ]
  },
  {
   "cell_type": "code",
   "execution_count": 9,
   "metadata": {},
   "outputs": [
    {
     "data": {
      "text/html": [
       "<div>\n",
       "<style scoped>\n",
       "    .dataframe tbody tr th:only-of-type {\n",
       "        vertical-align: middle;\n",
       "    }\n",
       "\n",
       "    .dataframe tbody tr th {\n",
       "        vertical-align: top;\n",
       "    }\n",
       "\n",
       "    .dataframe thead th {\n",
       "        text-align: right;\n",
       "    }\n",
       "</style>\n",
       "<table border=\"1\" class=\"dataframe\">\n",
       "  <thead>\n",
       "    <tr style=\"text-align: right;\">\n",
       "      <th></th>\n",
       "      <th>session</th>\n",
       "      <th>visitor</th>\n",
       "      <th>dt</th>\n",
       "      <th>custno</th>\n",
       "      <th>category</th>\n",
       "      <th>event2</th>\n",
       "    </tr>\n",
       "    <tr>\n",
       "      <th>event1</th>\n",
       "      <th></th>\n",
       "      <th></th>\n",
       "      <th></th>\n",
       "      <th></th>\n",
       "      <th></th>\n",
       "      <th></th>\n",
       "    </tr>\n",
       "  </thead>\n",
       "  <tbody>\n",
       "    <tr>\n",
       "      <th>1.0</th>\n",
       "      <td>51567</td>\n",
       "      <td>51567</td>\n",
       "      <td>51567</td>\n",
       "      <td>51567</td>\n",
       "      <td>51567</td>\n",
       "      <td>51567</td>\n",
       "    </tr>\n",
       "    <tr>\n",
       "      <th>2.0</th>\n",
       "      <td>23312</td>\n",
       "      <td>23312</td>\n",
       "      <td>23312</td>\n",
       "      <td>23312</td>\n",
       "      <td>23312</td>\n",
       "      <td>23312</td>\n",
       "    </tr>\n",
       "    <tr>\n",
       "      <th>4.0</th>\n",
       "      <td>23858</td>\n",
       "      <td>23858</td>\n",
       "      <td>23858</td>\n",
       "      <td>23858</td>\n",
       "      <td>23858</td>\n",
       "      <td>23858</td>\n",
       "    </tr>\n",
       "    <tr>\n",
       "      <th>5.0</th>\n",
       "      <td>1473</td>\n",
       "      <td>1473</td>\n",
       "      <td>1473</td>\n",
       "      <td>1473</td>\n",
       "      <td>1473</td>\n",
       "      <td>1473</td>\n",
       "    </tr>\n",
       "    <tr>\n",
       "      <th>6.0</th>\n",
       "      <td>16537</td>\n",
       "      <td>16537</td>\n",
       "      <td>16537</td>\n",
       "      <td>16537</td>\n",
       "      <td>16537</td>\n",
       "      <td>16537</td>\n",
       "    </tr>\n",
       "    <tr>\n",
       "      <th>7.0</th>\n",
       "      <td>11416</td>\n",
       "      <td>11416</td>\n",
       "      <td>11416</td>\n",
       "      <td>11416</td>\n",
       "      <td>11416</td>\n",
       "      <td>11416</td>\n",
       "    </tr>\n",
       "    <tr>\n",
       "      <th>8.0</th>\n",
       "      <td>10966</td>\n",
       "      <td>10966</td>\n",
       "      <td>10966</td>\n",
       "      <td>10966</td>\n",
       "      <td>10966</td>\n",
       "      <td>10966</td>\n",
       "    </tr>\n",
       "    <tr>\n",
       "      <th>9.0</th>\n",
       "      <td>3990</td>\n",
       "      <td>3990</td>\n",
       "      <td>3990</td>\n",
       "      <td>3990</td>\n",
       "      <td>3990</td>\n",
       "      <td>3990</td>\n",
       "    </tr>\n",
       "    <tr>\n",
       "      <th>10.0</th>\n",
       "      <td>1223</td>\n",
       "      <td>1223</td>\n",
       "      <td>1223</td>\n",
       "      <td>1223</td>\n",
       "      <td>1223</td>\n",
       "      <td>1223</td>\n",
       "    </tr>\n",
       "    <tr>\n",
       "      <th>11.0</th>\n",
       "      <td>20586</td>\n",
       "      <td>20586</td>\n",
       "      <td>20586</td>\n",
       "      <td>20586</td>\n",
       "      <td>20586</td>\n",
       "      <td>20586</td>\n",
       "    </tr>\n",
       "  </tbody>\n",
       "</table>\n",
       "</div>"
      ],
      "text/plain": [
       "        session  visitor     dt  custno  category  event2\n",
       "event1                                                   \n",
       "1.0       51567    51567  51567   51567     51567   51567\n",
       "2.0       23312    23312  23312   23312     23312   23312\n",
       "4.0       23858    23858  23858   23858     23858   23858\n",
       "5.0        1473     1473   1473    1473      1473    1473\n",
       "6.0       16537    16537  16537   16537     16537   16537\n",
       "7.0       11416    11416  11416   11416     11416   11416\n",
       "8.0       10966    10966  10966   10966     10966   10966\n",
       "9.0        3990     3990   3990    3990      3990    3990\n",
       "10.0       1223     1223   1223    1223      1223    1223\n",
       "11.0      20586    20586  20586   20586     20586   20586"
      ]
     },
     "execution_count": 9,
     "metadata": {},
     "output_type": "execute_result"
    }
   ],
   "source": [
    "online.groupby('event1').count()"
   ]
  },
  {
   "cell_type": "code",
   "execution_count": 10,
   "metadata": {},
   "outputs": [
    {
     "data": {
      "text/html": [
       "<div>\n",
       "<style scoped>\n",
       "    .dataframe tbody tr th:only-of-type {\n",
       "        vertical-align: middle;\n",
       "    }\n",
       "\n",
       "    .dataframe tbody tr th {\n",
       "        vertical-align: top;\n",
       "    }\n",
       "\n",
       "    .dataframe thead th {\n",
       "        text-align: right;\n",
       "    }\n",
       "</style>\n",
       "<table border=\"1\" class=\"dataframe\">\n",
       "  <thead>\n",
       "    <tr style=\"text-align: right;\">\n",
       "      <th></th>\n",
       "      <th>session</th>\n",
       "      <th>visitor</th>\n",
       "      <th>dt</th>\n",
       "      <th>custno</th>\n",
       "      <th>category</th>\n",
       "      <th>event1</th>\n",
       "    </tr>\n",
       "    <tr>\n",
       "      <th>event2</th>\n",
       "      <th></th>\n",
       "      <th></th>\n",
       "      <th></th>\n",
       "      <th></th>\n",
       "      <th></th>\n",
       "      <th></th>\n",
       "    </tr>\n",
       "  </thead>\n",
       "  <tbody>\n",
       "    <tr>\n",
       "      <th>1</th>\n",
       "      <td>86496</td>\n",
       "      <td>86496</td>\n",
       "      <td>86496</td>\n",
       "      <td>86496</td>\n",
       "      <td>86496</td>\n",
       "      <td>30547</td>\n",
       "    </tr>\n",
       "    <tr>\n",
       "      <th>2</th>\n",
       "      <td>15419</td>\n",
       "      <td>15419</td>\n",
       "      <td>15419</td>\n",
       "      <td>15419</td>\n",
       "      <td>15419</td>\n",
       "      <td>4260</td>\n",
       "    </tr>\n",
       "    <tr>\n",
       "      <th>3</th>\n",
       "      <td>129795</td>\n",
       "      <td>129795</td>\n",
       "      <td>129795</td>\n",
       "      <td>129795</td>\n",
       "      <td>129795</td>\n",
       "      <td>1333</td>\n",
       "    </tr>\n",
       "    <tr>\n",
       "      <th>4</th>\n",
       "      <td>94230</td>\n",
       "      <td>94230</td>\n",
       "      <td>94230</td>\n",
       "      <td>94230</td>\n",
       "      <td>94230</td>\n",
       "      <td>2485</td>\n",
       "    </tr>\n",
       "    <tr>\n",
       "      <th>5</th>\n",
       "      <td>48282</td>\n",
       "      <td>48282</td>\n",
       "      <td>48282</td>\n",
       "      <td>48282</td>\n",
       "      <td>48282</td>\n",
       "      <td>3687</td>\n",
       "    </tr>\n",
       "    <tr>\n",
       "      <th>6</th>\n",
       "      <td>29913</td>\n",
       "      <td>29913</td>\n",
       "      <td>29913</td>\n",
       "      <td>29913</td>\n",
       "      <td>29913</td>\n",
       "      <td>413</td>\n",
       "    </tr>\n",
       "    <tr>\n",
       "      <th>7</th>\n",
       "      <td>367857</td>\n",
       "      <td>367857</td>\n",
       "      <td>367857</td>\n",
       "      <td>367857</td>\n",
       "      <td>367857</td>\n",
       "      <td>115098</td>\n",
       "    </tr>\n",
       "    <tr>\n",
       "      <th>8</th>\n",
       "      <td>122402</td>\n",
       "      <td>122402</td>\n",
       "      <td>122402</td>\n",
       "      <td>122402</td>\n",
       "      <td>122402</td>\n",
       "      <td>1838</td>\n",
       "    </tr>\n",
       "    <tr>\n",
       "      <th>9</th>\n",
       "      <td>52145</td>\n",
       "      <td>52145</td>\n",
       "      <td>52145</td>\n",
       "      <td>52145</td>\n",
       "      <td>52145</td>\n",
       "      <td>815</td>\n",
       "    </tr>\n",
       "    <tr>\n",
       "      <th>10</th>\n",
       "      <td>8235</td>\n",
       "      <td>8235</td>\n",
       "      <td>8235</td>\n",
       "      <td>8235</td>\n",
       "      <td>8235</td>\n",
       "      <td>4452</td>\n",
       "    </tr>\n",
       "  </tbody>\n",
       "</table>\n",
       "</div>"
      ],
      "text/plain": [
       "        session  visitor      dt  custno  category  event1\n",
       "event2                                                    \n",
       "1         86496    86496   86496   86496     86496   30547\n",
       "2         15419    15419   15419   15419     15419    4260\n",
       "3        129795   129795  129795  129795    129795    1333\n",
       "4         94230    94230   94230   94230     94230    2485\n",
       "5         48282    48282   48282   48282     48282    3687\n",
       "6         29913    29913   29913   29913     29913     413\n",
       "7        367857   367857  367857  367857    367857  115098\n",
       "8        122402   122402  122402  122402    122402    1838\n",
       "9         52145    52145   52145   52145     52145     815\n",
       "10         8235     8235    8235    8235      8235    4452"
      ]
     },
     "execution_count": 10,
     "metadata": {},
     "output_type": "execute_result"
    }
   ],
   "source": [
    "online.groupby('event2').count()"
   ]
  },
  {
   "cell_type": "code",
   "execution_count": 8,
   "metadata": {},
   "outputs": [
    {
     "data": {
      "text/html": [
       "<div>\n",
       "<style scoped>\n",
       "    .dataframe tbody tr th:only-of-type {\n",
       "        vertical-align: middle;\n",
       "    }\n",
       "\n",
       "    .dataframe tbody tr th {\n",
       "        vertical-align: top;\n",
       "    }\n",
       "\n",
       "    .dataframe thead th {\n",
       "        text-align: right;\n",
       "    }\n",
       "</style>\n",
       "<table border=\"1\" class=\"dataframe\">\n",
       "  <thead>\n",
       "    <tr style=\"text-align: right;\">\n",
       "      <th></th>\n",
       "      <th>custno</th>\n",
       "      <th>ordno</th>\n",
       "      <th>orderdate</th>\n",
       "      <th>prodcat1</th>\n",
       "      <th>revenue</th>\n",
       "    </tr>\n",
       "    <tr>\n",
       "      <th>prodcat2</th>\n",
       "      <th></th>\n",
       "      <th></th>\n",
       "      <th></th>\n",
       "      <th></th>\n",
       "      <th></th>\n",
       "    </tr>\n",
       "  </thead>\n",
       "  <tbody>\n",
       "    <tr>\n",
       "      <th>2.0</th>\n",
       "      <td>5148</td>\n",
       "      <td>5148</td>\n",
       "      <td>5148</td>\n",
       "      <td>5148</td>\n",
       "      <td>5148</td>\n",
       "    </tr>\n",
       "    <tr>\n",
       "      <th>3.0</th>\n",
       "      <td>40908</td>\n",
       "      <td>40908</td>\n",
       "      <td>40908</td>\n",
       "      <td>40908</td>\n",
       "      <td>40908</td>\n",
       "    </tr>\n",
       "    <tr>\n",
       "      <th>4.0</th>\n",
       "      <td>15797</td>\n",
       "      <td>15797</td>\n",
       "      <td>15797</td>\n",
       "      <td>15797</td>\n",
       "      <td>15797</td>\n",
       "    </tr>\n",
       "    <tr>\n",
       "      <th>5.0</th>\n",
       "      <td>12946</td>\n",
       "      <td>12946</td>\n",
       "      <td>12946</td>\n",
       "      <td>12946</td>\n",
       "      <td>12946</td>\n",
       "    </tr>\n",
       "    <tr>\n",
       "      <th>6.0</th>\n",
       "      <td>5393</td>\n",
       "      <td>5393</td>\n",
       "      <td>5393</td>\n",
       "      <td>5393</td>\n",
       "      <td>5393</td>\n",
       "    </tr>\n",
       "    <tr>\n",
       "      <th>...</th>\n",
       "      <td>...</td>\n",
       "      <td>...</td>\n",
       "      <td>...</td>\n",
       "      <td>...</td>\n",
       "      <td>...</td>\n",
       "    </tr>\n",
       "    <tr>\n",
       "      <th>259.0</th>\n",
       "      <td>5</td>\n",
       "      <td>5</td>\n",
       "      <td>5</td>\n",
       "      <td>5</td>\n",
       "      <td>5</td>\n",
       "    </tr>\n",
       "    <tr>\n",
       "      <th>260.0</th>\n",
       "      <td>1</td>\n",
       "      <td>1</td>\n",
       "      <td>1</td>\n",
       "      <td>1</td>\n",
       "      <td>1</td>\n",
       "    </tr>\n",
       "    <tr>\n",
       "      <th>261.0</th>\n",
       "      <td>1</td>\n",
       "      <td>1</td>\n",
       "      <td>1</td>\n",
       "      <td>1</td>\n",
       "      <td>1</td>\n",
       "    </tr>\n",
       "    <tr>\n",
       "      <th>262.0</th>\n",
       "      <td>15</td>\n",
       "      <td>15</td>\n",
       "      <td>15</td>\n",
       "      <td>15</td>\n",
       "      <td>15</td>\n",
       "    </tr>\n",
       "    <tr>\n",
       "      <th>263.0</th>\n",
       "      <td>3</td>\n",
       "      <td>3</td>\n",
       "      <td>3</td>\n",
       "      <td>3</td>\n",
       "      <td>3</td>\n",
       "    </tr>\n",
       "  </tbody>\n",
       "</table>\n",
       "<p>251 rows × 5 columns</p>\n",
       "</div>"
      ],
      "text/plain": [
       "          custno  ordno  orderdate  prodcat1  revenue\n",
       "prodcat2                                             \n",
       "2.0         5148   5148       5148      5148     5148\n",
       "3.0        40908  40908      40908     40908    40908\n",
       "4.0        15797  15797      15797     15797    15797\n",
       "5.0        12946  12946      12946     12946    12946\n",
       "6.0         5393   5393       5393      5393     5393\n",
       "...          ...    ...        ...       ...      ...\n",
       "259.0          5      5          5         5        5\n",
       "260.0          1      1          1         1        1\n",
       "261.0          1      1          1         1        1\n",
       "262.0         15     15         15        15       15\n",
       "263.0          3      3          3         3        3\n",
       "\n",
       "[251 rows x 5 columns]"
      ]
     },
     "execution_count": 8,
     "metadata": {},
     "output_type": "execute_result"
    }
   ],
   "source": [
    "order.groupby('prodcat2').count()"
   ]
  }
 ],
 "metadata": {
  "kernelspec": {
   "display_name": "Python 3",
   "language": "python",
   "name": "python3"
  },
  "language_info": {
   "codemirror_mode": {
    "name": "ipython",
    "version": 3
   },
   "file_extension": ".py",
   "mimetype": "text/x-python",
   "name": "python",
   "nbconvert_exporter": "python",
   "pygments_lexer": "ipython3",
   "version": "3.8.3"
  }
 },
 "nbformat": 4,
 "nbformat_minor": 4
}
