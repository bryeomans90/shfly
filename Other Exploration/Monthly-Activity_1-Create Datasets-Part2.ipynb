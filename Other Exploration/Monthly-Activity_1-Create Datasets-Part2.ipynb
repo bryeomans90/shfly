{
 "cells": [
  {
   "cell_type": "markdown",
   "metadata": {},
   "source": [
    "# Todos\n",
    "1. Create Empty HDF5 File\n",
    "1. Read in Previous Orders\n",
    "    - Split Between Train and Test\n",
    "    - For Train Write out the Xs\n",
    "    - For Test Write out the Xs\n",
    "2. Read in the Dependent Variables\n",
    "    - Split Between Train and Test\n",
    "    - For Train Write out the order_month and the Ys\n",
    "    - For Test Write out the order_month and the Ys"
   ]
  },
  {
   "cell_type": "code",
   "execution_count": 1,
   "metadata": {},
   "outputs": [],
   "source": [
    "import numpy as np\n",
    "import h5py\n",
    "import pandas as pd\n",
    "import matplotlib.pyplot as plt\n",
    "\n",
    "pd.set_option('display.max_rows', 1000)\n",
    "pd.set_option('max_columns',100)"
   ]
  },
  {
   "cell_type": "markdown",
   "metadata": {},
   "source": [
    "# Create Empty HDF5 File"
   ]
  },
  {
   "cell_type": "code",
   "execution_count": 2,
   "metadata": {},
   "outputs": [],
   "source": [
    "ord_hist_train = h5py.File('data/order_history_train.h5', 'w')\n",
    "ord_hist_test = h5py.File('data/order_history_test.h5', 'w')"
   ]
  },
  {
   "cell_type": "markdown",
   "metadata": {},
   "source": [
    "# Save Previous Orders"
   ]
  },
  {
   "cell_type": "code",
   "execution_count": 4,
   "metadata": {},
   "outputs": [],
   "source": [
    "final_pd = pd.read_pickle('data/final_pd_previous_orders.pkl')\n",
    "final_pd = final_pd.drop(['ordno_current', 'months_before', 'days_before'],axis=1)"
   ]
  },
  {
   "cell_type": "markdown",
   "metadata": {},
   "source": [
    "#### Training"
   ]
  },
  {
   "cell_type": "code",
   "execution_count": 5,
   "metadata": {},
   "outputs": [],
   "source": [
    "train_pd = final_pd[final_pd['orderdate']<= pd.to_datetime('2018-09-1')].copy()"
   ]
  },
  {
   "cell_type": "code",
   "execution_count": 6,
   "metadata": {},
   "outputs": [],
   "source": [
    "del(train_pd['orderdate'])\n",
    "del(train_pd['ordno'])\n",
    "#del(final_pd)"
   ]
  },
  {
   "cell_type": "code",
   "execution_count": 7,
   "metadata": {},
   "outputs": [],
   "source": [
    "train_X_orders = train_pd.drop(\n",
    "    ['ordermonth', 'P1:1.0', 'P1:2.0', 'P1:3.0', 'P1:4.0', 'P1:5.0', 'P1:7.0'],\n",
    "    axis=1\n",
    ").values\n",
    "\n",
    "train_X_orders = train_X_orders.reshape((-1,14, 253))"
   ]
  },
  {
   "cell_type": "code",
   "execution_count": 8,
   "metadata": {},
   "outputs": [
    {
     "data": {
      "text/plain": [
       "<HDF5 dataset \"train_X_orders\": shape (135889, 14, 253), type \"<f8\">"
      ]
     },
     "execution_count": 8,
     "metadata": {},
     "output_type": "execute_result"
    }
   ],
   "source": [
    "ord_hist_train.create_dataset('train_X_orders', data=train_X_orders)"
   ]
  },
  {
   "cell_type": "markdown",
   "metadata": {},
   "source": [
    "#### Test"
   ]
  },
  {
   "cell_type": "code",
   "execution_count": 9,
   "metadata": {},
   "outputs": [],
   "source": [
    "test_pd = final_pd[final_pd['orderdate']> pd.to_datetime('2018-09-1')].copy()"
   ]
  },
  {
   "cell_type": "code",
   "execution_count": 10,
   "metadata": {},
   "outputs": [],
   "source": [
    "del(test_pd['orderdate'])\n",
    "del(test_pd['ordno'])"
   ]
  },
  {
   "cell_type": "code",
   "execution_count": 11,
   "metadata": {},
   "outputs": [],
   "source": [
    "test_X_orders = test_pd.drop(\n",
    "    ['ordermonth','P1:1.0', 'P1:2.0', 'P1:3.0', 'P1:4.0', 'P1:5.0', 'P1:7.0'],\n",
    "    axis=1\n",
    ").values\n",
    "\n",
    "test_X_orders = test_X_orders.reshape((-1,14, 253))"
   ]
  },
  {
   "cell_type": "code",
   "execution_count": 12,
   "metadata": {},
   "outputs": [
    {
     "data": {
      "text/plain": [
       "<HDF5 dataset \"test_X_orders\": shape (13828, 14, 253), type \"<f8\">"
      ]
     },
     "execution_count": 12,
     "metadata": {},
     "output_type": "execute_result"
    }
   ],
   "source": [
    "ord_hist_test.create_dataset('test_X_orders', data=test_X_orders)"
   ]
  },
  {
   "cell_type": "markdown",
   "metadata": {},
   "source": [
    "# Save Dependent Variables"
   ]
  },
  {
   "cell_type": "code",
   "execution_count": 13,
   "metadata": {},
   "outputs": [],
   "source": [
    "dependent_vars = pd.read_pickle('data/dependent_vars_previous_orders.pkl')"
   ]
  },
  {
   "cell_type": "code",
   "execution_count": 14,
   "metadata": {},
   "outputs": [],
   "source": [
    "assert len(set(dependent_vars['ordno'])) == len(set(final_pd['ordno']))"
   ]
  },
  {
   "cell_type": "markdown",
   "metadata": {},
   "source": [
    "#### Convert Orders From Counts to BInary"
   ]
  },
  {
   "cell_type": "code",
   "execution_count": 15,
   "metadata": {},
   "outputs": [],
   "source": [
    "dependent_vars[\n",
    "    ['P1:1.0', 'P1:2.0', 'P1:3.0', 'P1:4.0', 'P1:5.0', 'P1:7.0']\n",
    "] = (dependent_vars[\n",
    "    ['P1:1.0', 'P1:2.0', 'P1:3.0', 'P1:4.0', 'P1:5.0', 'P1:7.0']\n",
    "]>0).astype(int)"
   ]
  },
  {
   "cell_type": "markdown",
   "metadata": {},
   "source": [
    "#### Training"
   ]
  },
  {
   "cell_type": "code",
   "execution_count": 16,
   "metadata": {},
   "outputs": [],
   "source": [
    "train_dependent_pd = dependent_vars[dependent_vars['orderdate']<= pd.to_datetime('2018-09-1')]"
   ]
  },
  {
   "cell_type": "code",
   "execution_count": 17,
   "metadata": {},
   "outputs": [],
   "source": [
    "train_X_order_month = train_dependent_pd['ordermonth'].values.reshape((-1,1))"
   ]
  },
  {
   "cell_type": "code",
   "execution_count": 18,
   "metadata": {},
   "outputs": [],
   "source": [
    "train_Y_order = train_dependent_pd[\n",
    "    ['P1:1.0', 'P1:2.0', 'P1:3.0', 'P1:4.0', 'P1:5.0', 'P1:7.0']\n",
    "].values"
   ]
  },
  {
   "cell_type": "code",
   "execution_count": 19,
   "metadata": {},
   "outputs": [
    {
     "data": {
      "text/plain": [
       "<HDF5 dataset \"train_X_order_month\": shape (135889, 1), type \"<i8\">"
      ]
     },
     "execution_count": 19,
     "metadata": {},
     "output_type": "execute_result"
    }
   ],
   "source": [
    "ord_hist_train.create_dataset('train_X_order_month', data=train_X_order_month)"
   ]
  },
  {
   "cell_type": "code",
   "execution_count": 20,
   "metadata": {},
   "outputs": [
    {
     "data": {
      "text/plain": [
       "<HDF5 dataset \"train_Y_order\": shape (135889, 6), type \"<i8\">"
      ]
     },
     "execution_count": 20,
     "metadata": {},
     "output_type": "execute_result"
    }
   ],
   "source": [
    "ord_hist_train.create_dataset('train_Y_order', data=train_Y_order)"
   ]
  },
  {
   "cell_type": "markdown",
   "metadata": {},
   "source": [
    "#### Test"
   ]
  },
  {
   "cell_type": "code",
   "execution_count": 21,
   "metadata": {},
   "outputs": [],
   "source": [
    "test_dependent_pd = dependent_vars[dependent_vars['orderdate']> pd.to_datetime('2018-09-1')]"
   ]
  },
  {
   "cell_type": "code",
   "execution_count": 22,
   "metadata": {
    "scrolled": true
   },
   "outputs": [],
   "source": [
    "test_X_order_month = test_dependent_pd['ordermonth'].values.reshape((-1,1))"
   ]
  },
  {
   "cell_type": "code",
   "execution_count": 23,
   "metadata": {},
   "outputs": [],
   "source": [
    "test_Y_order = test_dependent_pd[['P1:1.0', 'P1:2.0', 'P1:3.0', 'P1:4.0', 'P1:5.0', 'P1:7.0']].values"
   ]
  },
  {
   "cell_type": "code",
   "execution_count": 24,
   "metadata": {},
   "outputs": [
    {
     "data": {
      "text/plain": [
       "<HDF5 dataset \"test_X_order_month\": shape (13828, 1), type \"<i8\">"
      ]
     },
     "execution_count": 24,
     "metadata": {},
     "output_type": "execute_result"
    }
   ],
   "source": [
    "ord_hist_test.create_dataset('test_X_order_month', data=test_X_order_month)"
   ]
  },
  {
   "cell_type": "code",
   "execution_count": 25,
   "metadata": {},
   "outputs": [
    {
     "data": {
      "text/plain": [
       "<HDF5 dataset \"test_Y_order\": shape (13828, 6), type \"<i8\">"
      ]
     },
     "execution_count": 25,
     "metadata": {},
     "output_type": "execute_result"
    }
   ],
   "source": [
    "ord_hist_test.create_dataset('test_Y_order', data=test_Y_order)"
   ]
  },
  {
   "cell_type": "markdown",
   "metadata": {},
   "source": [
    "# Close the HDF5 File"
   ]
  },
  {
   "cell_type": "code",
   "execution_count": 26,
   "metadata": {},
   "outputs": [],
   "source": [
    "ord_hist_train.close()"
   ]
  },
  {
   "cell_type": "code",
   "execution_count": 27,
   "metadata": {},
   "outputs": [],
   "source": [
    "ord_hist_test.close()"
   ]
  },
  {
   "cell_type": "markdown",
   "metadata": {},
   "source": [
    "# Junk Below"
   ]
  },
  {
   "cell_type": "code",
   "execution_count": null,
   "metadata": {},
   "outputs": [],
   "source": []
  },
  {
   "cell_type": "markdown",
   "metadata": {},
   "source": [
    "## Split Between Train and Test\n",
    "- X_Orders.shape = (-1, 14, 254)\n",
    "- X_Month.shape = (-1,1)\n",
    "- Y.shape = (-1, 6)\n",
    "- X_Events.shape = ()\n"
   ]
  },
  {
   "cell_type": "markdown",
   "metadata": {},
   "source": [
    "# Preprocessing"
   ]
  },
  {
   "cell_type": "markdown",
   "metadata": {},
   "source": [
    "## Create Training Dataset"
   ]
  },
  {
   "cell_type": "code",
   "execution_count": null,
   "metadata": {},
   "outputs": [],
   "source": [
    "train_pd = final_pd[final_pd['orderdate']<= pd.to_datetime('2018-09-1')]\n",
    "train_dependent_pd = dependent_vars[dependent_vars['orderdate']<= pd.to_datetime('2018-09-1')]"
   ]
  },
  {
   "cell_type": "code",
   "execution_count": null,
   "metadata": {},
   "outputs": [],
   "source": [
    "train_pd.shape"
   ]
  },
  {
   "cell_type": "code",
   "execution_count": null,
   "metadata": {},
   "outputs": [],
   "source": [
    "train_X_orders = train_pd.drop(\n",
    "    ['P1:1.0', 'P1:2.0', 'P1:3.0', 'P1:4.0', 'P1:5.0', 'P1:7.0'],\n",
    "    axis=1\n",
    ").values"
   ]
  },
  {
   "cell_type": "code",
   "execution_count": null,
   "metadata": {},
   "outputs": [],
   "source": [
    "train_X_orders = train_X_orders.reshape((-1,14, 254))"
   ]
  },
  {
   "cell_type": "code",
   "execution_count": null,
   "metadata": {
    "scrolled": true
   },
   "outputs": [],
   "source": [
    "train_X_order_month = train_dependent_pd['ordermonth'].values.reshape((-1,1))"
   ]
  },
  {
   "cell_type": "code",
   "execution_count": null,
   "metadata": {},
   "outputs": [],
   "source": [
    "train_Y_order = train_pd[['P1:1.0', 'P1:2.0', 'P1:3.0', 'P1:4.0', 'P1:5.0', 'P1:7.0']].values"
   ]
  },
  {
   "cell_type": "markdown",
   "metadata": {},
   "source": [
    "## Create Test Dataset"
   ]
  },
  {
   "cell_type": "code",
   "execution_count": null,
   "metadata": {},
   "outputs": [],
   "source": [
    "test_pd = final_pd[final_pd['orderdate']> pd.to_datetime('2018-09-1')]\n",
    "test_dependent_pd = dependent_vars[dependent_vars['orderdate']> pd.to_datetime('2018-09-1')]"
   ]
  },
  {
   "cell_type": "code",
   "execution_count": null,
   "metadata": {},
   "outputs": [],
   "source": [
    "del(test_pd['orderdate'])"
   ]
  },
  {
   "cell_type": "code",
   "execution_count": null,
   "metadata": {},
   "outputs": [],
   "source": [
    "del(test_pd['ordno'])"
   ]
  },
  {
   "cell_type": "code",
   "execution_count": null,
   "metadata": {},
   "outputs": [],
   "source": [
    "test_X_orders = test_pd.drop(\n",
    "    ['ordermonth','P1:1.0', 'P1:2.0', 'P1:3.0', 'P1:4.0', 'P1:5.0', 'P1:7.0'],\n",
    "    axis=1\n",
    ").values\n",
    "\n",
    "test_X_orders = test_X_orders.reshape((-1,14, 253))"
   ]
  },
  {
   "cell_type": "code",
   "execution_count": null,
   "metadata": {
    "scrolled": true
   },
   "outputs": [],
   "source": [
    "test_X_order_month = test_dependent_pd['ordermonth'].values.reshape((-1,1))"
   ]
  },
  {
   "cell_type": "code",
   "execution_count": null,
   "metadata": {},
   "outputs": [],
   "source": [
    "test_Y_order = test_pd[['P1:1.0', 'P1:2.0', 'P1:3.0', 'P1:4.0', 'P1:5.0', 'P1:7.0']].values"
   ]
  },
  {
   "cell_type": "code",
   "execution_count": null,
   "metadata": {},
   "outputs": [],
   "source": []
  },
  {
   "cell_type": "code",
   "execution_count": null,
   "metadata": {},
   "outputs": [],
   "source": [
    "test_Y_order"
   ]
  },
  {
   "cell_type": "markdown",
   "metadata": {},
   "source": [
    "#### Get Train Data"
   ]
  },
  {
   "cell_type": "code",
   "execution_count": null,
   "metadata": {},
   "outputs": [],
   "source": [
    "train_pd = final_pd[final_pd['orderdate']<= pd.to_datetime('2018-09-1')]"
   ]
  },
  {
   "cell_type": "code",
   "execution_count": null,
   "metadata": {},
   "outputs": [],
   "source": [
    "train_X = train_pd.drop(\n",
    "    ['P1:1.0', 'P1:2.0', 'P1:3.0', 'P1:4.0', 'P1:5.0', 'P1:7.0'],\n",
    "    axis=1\n",
    ").values\n",
    "\n",
    "train_X = train_X.reshape((-1,14, 254))"
   ]
  },
  {
   "cell_type": "code",
   "execution_count": null,
   "metadata": {},
   "outputs": [],
   "source": [
    "del(train_pd['orderdate'])"
   ]
  },
  {
   "cell_type": "code",
   "execution_count": null,
   "metadata": {},
   "outputs": [],
   "source": [
    "X = final_pd.drop(\n",
    "    ['P1:1.0', 'P1:2.0', 'P1:3.0', 'P1:4.0', 'P1:5.0', 'P1:7.0'],\n",
    "    axis=1\n",
    ").values"
   ]
  },
  {
   "cell_type": "code",
   "execution_count": null,
   "metadata": {},
   "outputs": [],
   "source": [
    "Y = final_pd[['P1:1.0', 'P1:2.0', 'P1:3.0', 'P1:4.0', 'P1:5.0', 'P1:7.0']].shape"
   ]
  },
  {
   "cell_type": "code",
   "execution_count": null,
   "metadata": {},
   "outputs": [],
   "source": [
    "ordno_df = modeling_dataset[['ordno']].copy()\n",
    "ordno_df['key'] = 1"
   ]
  },
  {
   "cell_type": "code",
   "execution_count": null,
   "metadata": {},
   "outputs": [],
   "source": [
    "all_prev_orders_clean.head()"
   ]
  },
  {
   "cell_type": "markdown",
   "metadata": {},
   "source": [
    "# Junk Below"
   ]
  },
  {
   "cell_type": "markdown",
   "metadata": {},
   "source": [
    "#### Previous Order Count"
   ]
  },
  {
   "cell_type": "code",
   "execution_count": null,
   "metadata": {},
   "outputs": [],
   "source": [
    "full_prev_order_count"
   ]
  },
  {
   "cell_type": "markdown",
   "metadata": {},
   "source": [
    "#### Get Purchase Counts"
   ]
  },
  {
   "cell_type": "code",
   "execution_count": null,
   "metadata": {},
   "outputs": [],
   "source": [
    "def get_order_count_sum(all_previous_orders, min_b4, max_b4):\n",
    "    relevant_previous_orders = all_previous_orders[\n",
    "        (all_previous_orders['days_before']>min_b4) \n",
    "        & (all_previous_orders['days_before']< max_b4)\n",
    "    ]\n",
    "    del(relevant_previous_orders['days_before'])\n",
    "    \n",
    "    order_count_sum = relevant_previous_orders.groupby('ordno_current', as_index=False).sum()\n",
    "    \n",
    "    # Fix Column Names\n",
    "    agg_cols = list(order_count_sum.columns)[1:]\n",
    "    new_cols = [x+f'_{min_b4}_{max_b4}' for x in agg_cols]\n",
    "    new_cols = ['ordno_current'] + new_cols\n",
    "    order_count_sum.columns = new_cols\n",
    "\n",
    "    return order_count_sum"
   ]
  },
  {
   "cell_type": "code",
   "execution_count": null,
   "metadata": {},
   "outputs": [],
   "source": [
    "order_count_sum_0_30 = get_order_count_sum(all_prev_orders_clean,0,30)\n",
    "order_count_sum_30_350 = get_order_count_sum(all_prev_orders_clean,30,350)\n",
    "order_count_sum_350_380 = get_order_count_sum(all_prev_orders_clean,350,380)"
   ]
  },
  {
   "cell_type": "code",
   "execution_count": null,
   "metadata": {},
   "outputs": [],
   "source": [
    "order_count_sum_0_30.head()"
   ]
  },
  {
   "cell_type": "code",
   "execution_count": null,
   "metadata": {},
   "outputs": [],
   "source": [
    "assert len(set(order_count_sum_0_30['ordno_current'])) == order_count_sum_0_30.shape[0]\n",
    "assert len(set(order_count_sum_30_350['ordno_current'])) == order_count_sum_30_350.shape[0]\n",
    "assert len(set(order_count_sum_350_380['ordno_current'])) == order_count_sum_350_380.shape[0]\n",
    "\n",
    "assert len(set(modeling_dataset['ordno'])) == modeling_dataset.shape[0]"
   ]
  },
  {
   "cell_type": "code",
   "execution_count": null,
   "metadata": {},
   "outputs": [],
   "source": [
    "modeling_dataset.head()"
   ]
  },
  {
   "cell_type": "code",
   "execution_count": null,
   "metadata": {},
   "outputs": [],
   "source": [
    "modeling_dataset_orders = modeling_dataset.merge(\n",
    "    order_count_sum_0_30,\n",
    "    left_on='ordno', right_on='ordno_current',\n",
    "    how='left'\n",
    ").merge(\n",
    "    order_count_sum_30_350,\n",
    "    left_on='ordno', right_on='ordno_current',\n",
    "    how='left'\n",
    ").merge(\n",
    "    order_count_sum_350_380,\n",
    "    left_on='ordno', right_on='ordno_current',\n",
    "    how='left'\n",
    ")"
   ]
  },
  {
   "cell_type": "code",
   "execution_count": null,
   "metadata": {},
   "outputs": [],
   "source": [
    "# Ensure all Orders are stored\n",
    "assert modeling_dataset.shape[0]==modeling_dataset_orders.shape[0]"
   ]
  },
  {
   "cell_type": "code",
   "execution_count": null,
   "metadata": {},
   "outputs": [],
   "source": [
    "assert len(set(modeling_dataset_orders['ordno'])) == modeling_dataset_orders.shape[0]"
   ]
  },
  {
   "cell_type": "code",
   "execution_count": null,
   "metadata": {
    "scrolled": true
   },
   "outputs": [],
   "source": [
    "modeling_dataset_orders.head()"
   ]
  },
  {
   "cell_type": "markdown",
   "metadata": {},
   "source": [
    "# Clean Online Data\n",
    "- Aggregate to Session Level"
   ]
  },
  {
   "cell_type": "markdown",
   "metadata": {},
   "source": [
    "#### Read in Data"
   ]
  },
  {
   "cell_type": "code",
   "execution_count": null,
   "metadata": {},
   "outputs": [],
   "source": [
    "# Read in Data\n",
    "online = pd.read_csv('data/online.csv')\n",
    "\n",
    "# Convert to Datetime\n",
    "online['dt'] = pd.to_datetime(online['dt'])\n",
    "\n",
    "# Fill in Missing Values with Dummie Value\n",
    "online['event1'] = online['event1'].fillna(-1)\n",
    "\n",
    "# Give clear category name for when it's split out to all the columns\n",
    "online['event1'] = online[['event1']].apply(lambda row: rename_categories('E1',row[0]), axis=1)\n",
    "online['event2'] = online[['event2']].apply(lambda row: rename_categories('E2',row[0]), axis=1)\n",
    "online['category'] = online[['category']].apply(lambda row: rename_categories('Cat',row[0]), axis=1)"
   ]
  },
  {
   "cell_type": "markdown",
   "metadata": {},
   "source": [
    "#### Split Out Events"
   ]
  },
  {
   "cell_type": "code",
   "execution_count": null,
   "metadata": {},
   "outputs": [],
   "source": [
    "e1_dummies = pd.get_dummies(online['event1'])\n",
    "e2_dummies = pd.get_dummies(online['event2'])\n",
    "cat_dummies = pd.get_dummies(online['category'])"
   ]
  },
  {
   "cell_type": "code",
   "execution_count": null,
   "metadata": {},
   "outputs": [],
   "source": [
    "event_vars = list(e1_dummies.columns) + list(e2_dummies.columns) + list(cat_dummies.columns)"
   ]
  },
  {
   "cell_type": "code",
   "execution_count": null,
   "metadata": {},
   "outputs": [],
   "source": [
    "online_expanded = pd.concat([online, e1_dummies, e2_dummies, cat_dummies], axis=1)"
   ]
  },
  {
   "cell_type": "code",
   "execution_count": null,
   "metadata": {},
   "outputs": [],
   "source": [
    "online_expanded.head()"
   ]
  },
  {
   "cell_type": "code",
   "execution_count": null,
   "metadata": {},
   "outputs": [],
   "source": [
    "# Create Dictionary for Aggregation\n",
    "agg_dict = {}\n",
    "for event_var in event_vars:\n",
    "    agg_dict[event_var] = 'sum'\n",
    "agg_dict['dt'] = 'min'"
   ]
  },
  {
   "cell_type": "code",
   "execution_count": null,
   "metadata": {},
   "outputs": [],
   "source": [
    "online_sessions = online_expanded.groupby(['custno', 'session'], as_index=False).agg(agg_dict).copy()\n",
    "\n",
    "online_sessions['start_time'] = online_sessions['dt']\n",
    "del(online_sessions['dt'])"
   ]
  },
  {
   "cell_type": "code",
   "execution_count": null,
   "metadata": {},
   "outputs": [],
   "source": [
    "online_sessions.head().T"
   ]
  },
  {
   "cell_type": "markdown",
   "metadata": {},
   "source": [
    "## Create Features"
   ]
  },
  {
   "cell_type": "code",
   "execution_count": null,
   "metadata": {},
   "outputs": [],
   "source": [
    "orders_and_dates = modeling_dataset_orders[['ordno','custno','orderdate']]"
   ]
  },
  {
   "cell_type": "code",
   "execution_count": null,
   "metadata": {},
   "outputs": [],
   "source": [
    "orders_and_sessions = orders_and_dates.merge(online_sessions, on='custno').copy()\n",
    "\n",
    "orders_and_sessions = orders_and_sessions[\n",
    "    orders_and_sessions['orderdate']>orders_and_sessions['start_time']\n",
    "]"
   ]
  },
  {
   "cell_type": "code",
   "execution_count": null,
   "metadata": {},
   "outputs": [],
   "source": [
    "orders_and_sessions['days_before'] = (\n",
    "    orders_and_sessions['orderdate'] - orders_and_sessions['start_time']\n",
    ").astype('timedelta64[s]')/3600/24"
   ]
  },
  {
   "cell_type": "code",
   "execution_count": null,
   "metadata": {},
   "outputs": [],
   "source": [
    "orders_and_sessions.columns.values"
   ]
  },
  {
   "cell_type": "code",
   "execution_count": null,
   "metadata": {},
   "outputs": [],
   "source": [
    "orders_and_sessions.head(5).T"
   ]
  },
  {
   "cell_type": "code",
   "execution_count": null,
   "metadata": {},
   "outputs": [],
   "source": [
    "orders_and_sessions_clean = orders_and_sessions[\n",
    "    [\n",
    "        'ordno','days_before',\n",
    "        'E1:-1.0', 'E1:1.0', 'E1:2.0', 'E1:4.0', 'E1:5.0', 'E1:6.0',\n",
    "        'E1:7.0', 'E1:8.0', 'E1:9.0', 'E1:10.0', 'E1:11.0',\n",
    "        \n",
    "        'E2:1', 'E2:2', 'E2:3','E2:4', 'E2:5',\n",
    "        'E2:6', 'E2:7', 'E2:8', 'E2:9', 'E2:10', \n",
    "        \n",
    "        'Cat:1', 'Cat:2', 'Cat:3', \n",
    "    ]\n",
    "]"
   ]
  },
  {
   "cell_type": "code",
   "execution_count": null,
   "metadata": {},
   "outputs": [],
   "source": [
    "def get_session_event_sum(all_previous_sessions, min_b4, max_b4):\n",
    "    relevant_previous_sessions = all_previous_sessions[\n",
    "        (all_previous_sessions['days_before']>min_b4) \n",
    "        & (all_previous_sessions['days_before']< max_b4)\n",
    "    ]\n",
    "    del(relevant_previous_sessions['days_before'])\n",
    "    \n",
    "    session_event_sum = relevant_previous_sessions.groupby('ordno', as_index=False).sum()\n",
    "    \n",
    "    # Fix Column Names\n",
    "    agg_cols = list(session_event_sum.columns)[1:]\n",
    "    new_cols = [x+f'_{min_b4}_{max_b4}' for x in agg_cols]\n",
    "    new_cols = ['ordno'] + new_cols\n",
    "    session_event_sum.columns = new_cols\n",
    "\n",
    "    return session_event_sum"
   ]
  },
  {
   "cell_type": "code",
   "execution_count": null,
   "metadata": {},
   "outputs": [],
   "source": [
    "session_event_sum_0_30 = get_session_event_sum(orders_and_sessions_clean,0,30)\n",
    "session_event_sum_30_350 = get_session_event_sum(orders_and_sessions_clean,30,350)\n",
    "session_event_sum_350_380 = get_session_event_sum(orders_and_sessions_clean,350,380)"
   ]
  },
  {
   "cell_type": "code",
   "execution_count": null,
   "metadata": {},
   "outputs": [],
   "source": [
    "session_event_sum_0_30"
   ]
  },
  {
   "cell_type": "code",
   "execution_count": null,
   "metadata": {},
   "outputs": [],
   "source": [
    "assert len(set(session_event_sum_0_30['ordno'])) == session_event_sum_0_30.shape[0]\n",
    "assert len(set(session_event_sum_30_350['ordno'])) == session_event_sum_30_350.shape[0]\n",
    "assert len(set(session_event_sum_350_380['ordno'])) == session_event_sum_350_380.shape[0]\n",
    "\n",
    "assert len(set(modeling_dataset['ordno'])) == modeling_dataset.shape[0]"
   ]
  },
  {
   "cell_type": "code",
   "execution_count": null,
   "metadata": {},
   "outputs": [],
   "source": [
    "modeling_dataset_full = modeling_dataset_orders.merge(\n",
    "    session_event_sum_0_30,\n",
    "    on='ordno',\n",
    "    how='left'\n",
    ").merge(\n",
    "    session_event_sum_30_350,\n",
    "    on='ordno',\n",
    "    how='left'\n",
    ").merge(\n",
    "    session_event_sum_350_380,\n",
    "    on='ordno',\n",
    "    how='left'\n",
    ")"
   ]
  },
  {
   "cell_type": "code",
   "execution_count": null,
   "metadata": {},
   "outputs": [],
   "source": [
    "modeling_dataset_full.shape[0]"
   ]
  },
  {
   "cell_type": "code",
   "execution_count": null,
   "metadata": {},
   "outputs": [],
   "source": [
    "modeling_dataset.shape[0]"
   ]
  },
  {
   "cell_type": "code",
   "execution_count": null,
   "metadata": {},
   "outputs": [],
   "source": [
    "assert modeling_dataset_full.shape[0] == modeling_dataset.shape[0]"
   ]
  },
  {
   "cell_type": "code",
   "execution_count": null,
   "metadata": {},
   "outputs": [],
   "source": [
    "assert modeling_dataset_full.shape[0] == order_totals.shape[0]"
   ]
  },
  {
   "cell_type": "code",
   "execution_count": null,
   "metadata": {},
   "outputs": [],
   "source": [
    "assert len(set(modeling_dataset_full['ordno'])) == modeling_dataset_full.shape[0]"
   ]
  },
  {
   "cell_type": "markdown",
   "metadata": {},
   "source": [
    "# Clean Up Final Modeling Dataset"
   ]
  },
  {
   "cell_type": "markdown",
   "metadata": {},
   "source": [
    "#### Drop Redundant Variables"
   ]
  },
  {
   "cell_type": "code",
   "execution_count": null,
   "metadata": {},
   "outputs": [],
   "source": [
    "drop_vars = [\n",
    "    'ordno_current_x', 'ordno_current_y', 'ordno_current'\n",
    "]"
   ]
  },
  {
   "cell_type": "code",
   "execution_count": null,
   "metadata": {},
   "outputs": [],
   "source": [
    "modeling_dataset_final = modeling_dataset_full.drop(drop_vars, axis=1)"
   ]
  },
  {
   "cell_type": "markdown",
   "metadata": {},
   "source": [
    "#### Filling Missing Counts with 0s"
   ]
  },
  {
   "cell_type": "code",
   "execution_count": null,
   "metadata": {},
   "outputs": [],
   "source": [
    "modeling_dataset_final = modeling_dataset_final.fillna(0).copy()"
   ]
  },
  {
   "cell_type": "markdown",
   "metadata": {},
   "source": [
    "# Split into Training and Test"
   ]
  },
  {
   "cell_type": "code",
   "execution_count": null,
   "metadata": {},
   "outputs": [],
   "source": [
    "sum(modeling_dataset_final['orderdate']>pd.to_datetime('2018-12-01'))/modeling_dataset_final.shape[0]"
   ]
  },
  {
   "cell_type": "markdown",
   "metadata": {},
   "source": [
    "# Create Features"
   ]
  },
  {
   "cell_type": "code",
   "execution_count": null,
   "metadata": {},
   "outputs": [],
   "source": [
    "online.shape"
   ]
  },
  {
   "cell_type": "code",
   "execution_count": null,
   "metadata": {},
   "outputs": [],
   "source": [
    "custno_join[\n",
    "    (custno_join['orderdate']>custno_join['dt'])\n",
    "].shape"
   ]
  },
  {
   "cell_type": "code",
   "execution_count": null,
   "metadata": {},
   "outputs": [],
   "source": [
    "online = pd.read_csv('data/online.csv')\n",
    "online['dt'] = pd.to_datetime(online['dt'])"
   ]
  },
  {
   "cell_type": "code",
   "execution_count": null,
   "metadata": {},
   "outputs": [],
   "source": [
    "order = pd.read_csv('data/order.csv')\n",
    "order['orderdate'] = pd.to_datetime(order['orderdate'])"
   ]
  },
  {
   "cell_type": "code",
   "execution_count": null,
   "metadata": {},
   "outputs": [],
   "source": [
    "online.head()"
   ]
  },
  {
   "cell_type": "code",
   "execution_count": null,
   "metadata": {
    "scrolled": true
   },
   "outputs": [],
   "source": [
    "order.head()"
   ]
  },
  {
   "cell_type": "code",
   "execution_count": null,
   "metadata": {},
   "outputs": [],
   "source": [
    "custno_join = pd.merge(order,online,how='left',on=['custno'])"
   ]
  }
 ],
 "metadata": {
  "kernelspec": {
   "display_name": "Python 3",
   "language": "python",
   "name": "python3"
  },
  "language_info": {
   "codemirror_mode": {
    "name": "ipython",
    "version": 3
   },
   "file_extension": ".py",
   "mimetype": "text/x-python",
   "name": "python",
   "nbconvert_exporter": "python",
   "pygments_lexer": "ipython3",
   "version": "3.8.3"
  }
 },
 "nbformat": 4,
 "nbformat_minor": 4
}
